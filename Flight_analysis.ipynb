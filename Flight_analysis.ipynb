{
 "cells": [
  {
   "cell_type": "code",
   "execution_count": 0,
   "metadata": {
    "application/vnd.databricks.v1+cell": {
     "cellMetadata": {
      "byteLimit": 2048000,
      "rowLimit": 10000
     },
     "inputWidgets": {},
     "nuid": "e8673e78-b512-4f93-a8eb-8e67af43edec",
     "showTitle": true,
     "title": "Loading the datasets"
    }
   },
   "outputs": [
    {
     "output_type": "stream",
     "name": "stdout",
     "output_type": "stream",
     "text": [
      "root\n |-- YEAR: integer (nullable = true)\n |-- MONTH: integer (nullable = true)\n |-- DAY_OF_MONTH: integer (nullable = true)\n |-- DAY_OF_WEEK: integer (nullable = true)\n |-- OP_UNIQUE_CARRIER: string (nullable = true)\n |-- TAIL_NUM: string (nullable = true)\n |-- OP_CARRIER_FL_NUM: integer (nullable = true)\n |-- ORIGIN: string (nullable = true)\n |-- DEST: string (nullable = true)\n |-- CRS_DEP_TIME: integer (nullable = true)\n |-- DEP_TIME: integer (nullable = true)\n |-- DEP_DELAY: integer (nullable = true)\n |-- TAXI_OUT: integer (nullable = true)\n |-- TAXI_IN: integer (nullable = true)\n |-- CRS_ARR_TIME: integer (nullable = true)\n |-- ARR_TIME: integer (nullable = true)\n |-- ARR_DELAY: integer (nullable = true)\n |-- CANCELLED: integer (nullable = true)\n |-- CANCELLATION_CODE: string (nullable = true)\n |-- DIVERTED: integer (nullable = true)\n |-- CRS_ELAPSED_TIME: integer (nullable = true)\n |-- ACTUAL_ELAPSED_TIME: integer (nullable = true)\n |-- AIR_TIME: integer (nullable = true)\n |-- DISTANCE: integer (nullable = true)\n |-- CARRIER_DELAY: integer (nullable = true)\n |-- WEATHER_DELAY: integer (nullable = true)\n |-- NAS_DELAY: integer (nullable = true)\n |-- SECURITY_DELAY: integer (nullable = true)\n |-- LATE_AIRCRAFT_DELAY: integer (nullable = true)\n\nroot\n |-- iata: string (nullable = true)\n |-- airport: string (nullable = true)\n |-- city: string (nullable = true)\n |-- state: string (nullable = true)\n |-- country: string (nullable = true)\n |-- lat: double (nullable = true)\n |-- long: double (nullable = true)\n\nroot\n |-- Code: string (nullable = true)\n |-- Description: string (nullable = true)\n\nroot\n |-- tailnum: string (nullable = true)\n |-- type: string (nullable = true)\n |-- manufacturer: string (nullable = true)\n |-- issue_date: string (nullable = true)\n |-- model: string (nullable = true)\n |-- status: string (nullable = true)\n |-- aircraft_type: string (nullable = true)\n |-- engine_type: string (nullable = true)\n |-- year: integer (nullable = true)\n\n+----+-----+------------+-----------+-----------------+--------+-----------------+------+----+------------+--------+---------+--------+-------+------------+--------+---------+---------+-----------------+--------+----------------+-------------------+--------+--------+-------------+-------------+---------+--------------+-------------------+\n|YEAR|MONTH|DAY_OF_MONTH|DAY_OF_WEEK|OP_UNIQUE_CARRIER|TAIL_NUM|OP_CARRIER_FL_NUM|ORIGIN|DEST|CRS_DEP_TIME|DEP_TIME|DEP_DELAY|TAXI_OUT|TAXI_IN|CRS_ARR_TIME|ARR_TIME|ARR_DELAY|CANCELLED|CANCELLATION_CODE|DIVERTED|CRS_ELAPSED_TIME|ACTUAL_ELAPSED_TIME|AIR_TIME|DISTANCE|CARRIER_DELAY|WEATHER_DELAY|NAS_DELAY|SECURITY_DELAY|LATE_AIRCRAFT_DELAY|\n+----+-----+------------+-----------+-----------------+--------+-----------------+------+----+------------+--------+---------+--------+-------+------------+--------+---------+---------+-----------------+--------+----------------+-------------------+--------+--------+-------------+-------------+---------+--------------+-------------------+\n|2019|    1|           1|          2|               UA|  N87512|             1104|   ANC| DEN|        2339|       1|       22|      13|     10|         645|     655|       10|        0|             NULL|       0|             306|                294|     271|    2405|         NULL|         NULL|     NULL|          NULL|               NULL|\n|2019|    1|           1|          2|               OH|  N720PS|             5061|   CLT| FAY|        2359|       1|        2|      17|      5|          41|      50|        9|        0|             NULL|       0|              42|                 49|      27|     118|         NULL|         NULL|     NULL|          NULL|               NULL|\n|2019|    1|           1|          2|               UA|  N75858|             2365|   LAX| ORD|        2359|       2|        3|      20|      4|         549|     543|       -6|        0|             NULL|       0|             230|                221|     197|    1744|         NULL|         NULL|     NULL|          NULL|               NULL|\n|2019|    1|           1|          2|               AS|  N512AS|              816|   LIH| SEA|        2305|       2|       57|       9|      6|         649|     730|       41|        0|             NULL|       0|             344|                328|     313|    2701|           41|            0|        0|             0|                  0|\n|2019|    1|           1|          2|               UA|  N26232|             1027|   SMF| EWR|        2351|       2|       11|      12|      9|         759|     807|        8|        0|             NULL|       0|             308|                305|     284|    2500|         NULL|         NULL|     NULL|          NULL|               NULL|\n+----+-----+------------+-----------+-----------------+--------+-----------------+------+----+------------+--------+---------+--------+-------+------------+--------+---------+---------+-----------------+--------+----------------+-------------------+--------+--------+-------------+-------------+---------+--------------+-------------------+\nonly showing top 5 rows\n\n+----+--------------------+----------------+-----+-------+-----------+------------+\n|iata|             airport|            city|state|country|        lat|        long|\n+----+--------------------+----------------+-----+-------+-----------+------------+\n| 00M|            Thigpen |     Bay Springs|   MS|    USA|31.95376472|-89.23450472|\n| 00R|Livingston Municipal|      Livingston|   TX|    USA|30.68586111|-95.01792778|\n| 00V|         Meadow Lake|Colorado Springs|   CO|    USA|38.94574889|-104.5698933|\n| 01G|        Perry-Warsaw|           Perry|   NY|    USA|42.74134667|-78.05208056|\n| 01J|    Hilliard Airpark|        Hilliard|   FL|    USA| 30.6880125|-81.90594389|\n+----+--------------------+----------------+-----+-------+-----------+------------+\nonly showing top 5 rows\n\n"
     ]
    }
   ],
   "source": [
    "\n",
    "from pyspark.sql import SparkSession\n",
    "from pyspark.sql.functions import col, when\n",
    "\n",
    "# Read flight data\n",
    "flight_data_1 = spark.read.csv(\"dbfs:/FileStore/tables/2019_01.csv\", header=True, inferSchema=True)\n",
    "flight_data_2 = spark.read.csv(\"dbfs:/FileStore/tables/2019_02.csv\", header=True, inferSchema=True)\n",
    "flight_data_3 = spark.read.csv(\"dbfs:/FileStore/tables/2019_03.csv\", header=True, inferSchema=True)\n",
    "\n",
    "# Combine flight data into a single DataFrame\n",
    "flight_data = flight_data_1.union(flight_data_2).union(flight_data_3)\n",
    "flight_data = flight_data.dropDuplicates()\n",
    "critical_columns = ['YEAR', 'MONTH', 'DAY_OF_MONTH', 'OP_UNIQUE_CARRIER', 'ORIGIN', 'DEST']\n",
    "flight_data = flight_data.dropna(subset=critical_columns)\n",
    "flight_data = flight_data.orderBy(\"MONTH\", \"DAY_OF_MONTH\", \"DEP_TIME\")\n",
    "\n",
    "# Filter out cancelled flights\n",
    "flight_data = flight_data.filter(~(col('CANCELLED') == 1))\n",
    "\n",
    "\n",
    "# Read additional datasets\n",
    "airports_data = spark.read.csv(\"dbfs:/FileStore/tables/airports.csv\", header=True, inferSchema=True)\n",
    "carriers_data = spark.read.csv(\"dbfs:/FileStore/tables/carriers.csv\", header=True, inferSchema=True)\n",
    "planes_data = spark.read.csv(\"dbfs:/FileStore/tables/plane_data.csv\", header=True, inferSchema=True)\n",
    "\n",
    "\n",
    "# Replace 'None' string with NULL\n",
    "planes_data = planes_data.withColumn(\"year\", when(col(\"year\") == \"None\", None).otherwise(col(\"year\")))\n",
    "# Cast 'year' column to integer type\n",
    "planes_data = planes_data.withColumn(\"year\", col(\"year\").cast(\"int\"))\n",
    "\n",
    "# Show the schema to verify the data\n",
    "flight_data.printSchema()\n",
    "airports_data.printSchema()\n",
    "carriers_data.printSchema()\n",
    "planes_data.printSchema()\n",
    "\n",
    "flight_data.cache()\n",
    "\n",
    "# Show some sample data\n",
    "flight_data.show(5)\n",
    "airports_data.show(5)\n",
    "\n"
   ]
  },
  {
   "cell_type": "code",
   "execution_count": 0,
   "metadata": {
    "application/vnd.databricks.v1+cell": {
     "cellMetadata": {
      "byteLimit": 2048000,
      "rowLimit": 10000
     },
     "inputWidgets": {},
     "nuid": "eb1ba114-814b-4667-b970-2834dce7b324",
     "showTitle": true,
     "title": "Calculate average delays for each airports"
    }
   },
   "outputs": [
    {
     "output_type": "stream",
     "name": "stdout",
     "output_type": "stream",
     "text": [
      "+------------+--------------------+------------+-----+-------------+-------------+-----------+-------------+\n|airport_iata|             airport|        city|state|avg_dep_delay|avg_arr_delay|total_delay|total_flights|\n+------------+--------------------+------------+-----+-------------+-------------+-----------+-------------+\n|         BRW|Wiley Post Will R...|      Barrow|   AK|       -10.36|       -10.66|     -21.02|          347|\n|         SCC|           Deadhorse|   Deadhorse|   AK|        -9.08|        -7.44|     -16.52|          480|\n|         PAE|   Snohomish County |     Everett|   WA|         -1.5|        -14.5|      -16.0|           10|\n|         ADK|                Adak|        Adak|   AK|          6.0|        -21.0|      -15.0|           46|\n|         LWS|Lewiston-Nez Perc...|    Lewiston|   ID|        -3.72|        -9.91|     -13.63|          397|\n|         OME|                Nome|        Nome|   AK|        -8.73|        -3.89|     -12.62|          325|\n|         CPR| Natrona County Intl|      Casper|   WY|         0.74|       -11.87|     -11.13|          392|\n|         YAK|             Yakutat|     Yakutat|   AK|         -8.7|        -2.24|     -10.94|          344|\n|         CDV|Merle K (Mudhole)...|     Cordova|   AK|        -9.47|        -1.29|     -10.76|          345|\n|         FAI|Fairbanks Interna...|   Fairbanks|   AK|        -4.55|        -4.66|      -9.21|         2003|\n|         SIT|               Sitka|       Sitka|   AK|        -5.95|        -2.87|      -8.82|          503|\n|         PSM|Pease Internation...|  Portsmouth|   NH|          0.1|        -8.64|      -8.54|          269|\n|         ADQ|             Kodiak |      Kodiak|   AK|        -6.27|        -0.89|      -7.16|          304|\n|         ANC|Ted Stevens Ancho...|   Anchorage|   AK|        -0.81|        -4.66|      -5.47|         7556|\n|         BET|              Bethel|      Bethel|   AK|        -1.25|        -3.85|       -5.1|          388|\n|         PIH|  Pocatello Regional|   Pocatello|   ID|         0.05|        -4.25|       -4.2|          540|\n|         PHF|Newport News/Will...|Newport News|   VA|         2.13|        -6.22|      -4.09|          712|\n|         OTZ| Ralph Wien Memorial|    Kotzebue|   AK|        -1.08|        -2.65|      -3.73|          344|\n|         GUM|  Guam International|       Agana|   GU|        -2.35|        -0.09|      -2.44|          407|\n|         JNU|Juneau International|      Juneau|   AK|         0.28|        -2.64|      -2.36|         1822|\n+------------+--------------------+------------+-----+-------------+-------------+-----------+-------------+\nonly showing top 20 rows\n\n"
     ]
    },
    {
     "output_type": "display_data",
     "data": {
      "text/html": [
       "<html>\n",
       "<head><meta charset=\"utf-8\" /></head>\n",
       "<body>\n",
       "    <div>            <script src=\"https://cdnjs.cloudflare.com/ajax/libs/mathjax/2.7.5/MathJax.js?config=TeX-AMS-MML_SVG\"></script><script type=\"text/javascript\">if (window.MathJax && window.MathJax.Hub && window.MathJax.Hub.Config) {window.MathJax.Hub.Config({SVG: {font: \"STIX-Web\"}});}</script>                <script type=\"text/javascript\">window.PlotlyConfig = {MathJaxConfig: 'local'};</script>\n",
       "        <script src=\"https://cdn.plot.ly/plotly-2.12.1.min.js\"></script>                <div id=\"87a5c6e8-edd1-49ce-a8a8-6b714fb0e723\" class=\"plotly-graph-div\" style=\"height:100%; width:100%;\"></div>            <script type=\"text/javascript\">                                    window.PLOTLYENV=window.PLOTLYENV || {};                                    if (document.getElementById(\"87a5c6e8-edd1-49ce-a8a8-6b714fb0e723\")) {                    Plotly.newPlot(                        \"87a5c6e8-edd1-49ce-a8a8-6b714fb0e723\",                        [{\"alignmentgroup\":\"True\",\"customdata\":[[-10.36,-10.66,347.0],[-9.08,-7.44,480.0],[-1.5,-14.5,10.0],[6.0,-21.0,46.0],[-3.72,-9.91,397.0],[-8.73,-3.89,325.0],[0.74,-11.87,392.0],[-8.7,-2.24,344.0],[-9.47,-1.29,345.0],[-4.55,-4.66,2003.0],[-5.95,-2.87,503.0],[0.1,-8.64,269.0],[-6.27,-0.89,304.0],[-0.81,-4.66,7556.0],[-1.25,-3.85,388.0],[0.05,-4.25,540.0],[2.13,-6.22,712.0],[-1.08,-2.65,344.0],[-2.35,-0.09,407.0],[0.28,-2.64,1822.0],[-1.34,-0.99,290.0],[4.92,-6.15,955.0],[0.91,-1.26,230.0],[2.07,-2.19,347.0],[2.15,-2.25,308.0],[1.14,-1.05,338.0],[0.27,-0.09,2809.0],[-1.04,1.25,1013.0],[2.14,-1.87,502.0],[0.34,-0.06,668.0],[-1.35,1.77,780.0],[5.2,-4.75,657.0],[3.9,-3.36,880.0],[-1.0,1.71,3702.0],[2.24,-0.97,1198.0],[7.05,-5.36,948.0],[-1.86,3.65,428.0],[0.86,0.98,1738.0],[8.13,-6.13,468.0],[2.24,0.15,6998.0],[8.7,-6.17,303.0],[2.67,0.14,1759.0],[2.65,0.19,6645.0],[1.17,2.0,1182.0],[3.08,0.1,1306.0],[-0.41,3.62,948.0],[1.64,2.04,477.0],[0.04,3.7,327.0],[4.21,-0.27,496.0],[5.68,-1.72,500.0],[5.6,-1.53,304.0],[2.74,1.46,2944.0],[4.17,1.0,3820.0],[1.62,3.77,1000.0],[3.83,1.6,1050.0],[3.13,2.44,2649.0],[6.44,-0.41,53078.0],[10.08,-3.67,372.0],[7.14,-0.72,1441.0],[4.07,2.44,1600.0],[4.8,1.85,533.0],[7.49,-0.82,1032.0],[4.86,1.91,966.0],[2.21,4.59,347.0],[7.03,-0.16,504.0],[5.74,1.13,27451.0],[4.26,2.65,1173.0],[4.11,2.89,23124.0],[3.14,4.51,393.0],[5.37,2.3,1665.0],[5.41,2.32,2085.0],[7.79,-0.04,185237.0],[3.75,4.27,1072.0],[4.94,3.16,1552.0],[1.7,6.48,751.0],[5.09,3.13,324.0],[5.88,2.51,19270.0],[6.09,2.34,1342.0],[6.35,2.11,27968.0],[6.19,2.27,12267.0],[8.08,0.47,358.0],[4.43,4.21,1508.0],[5.16,3.51,4263.0],[11.84,-3.01,334.0],[9.41,-0.4,44756.0],[6.56,2.68,9092.0],[6.97,2.3,3098.0],[1.48,7.95,345.0],[7.11,2.33,554.0],[6.27,3.45,3560.0],[6.7,3.12,455.0],[6.78,3.09,22703.0],[6.33,3.55,1881.0],[8.02,1.89,111040.0],[5.79,4.18,3531.0],[10.18,0.0,34899.0],[8.59,1.6,60345.0],[8.05,2.27,29913.0],[6.38,3.94,10479.0],[6.27,4.24,8059.0],[5.18,5.49,975.0],[8.3,2.42,27810.0],[7.93,2.91,1837.0],[6.52,4.37,54.0],[6.58,4.37,3739.0],[10.02,0.93,90.0],[6.71,4.28,6220.0],[6.83,4.29,498.0],[7.67,3.49,19683.0],[7.99,3.18,16148.0],[4.76,6.43,494.0],[6.03,5.21,6936.0],[7.55,3.96,13900.0],[9.61,1.98,2154.0],[8.39,3.21,23147.0],[5.79,5.83,2494.0],[8.0,3.66,450.0],[9.21,2.49,45892.0],[6.13,5.64,3792.0],[8.41,3.38,6958.0],[6.29,5.53,7859.0],[11.33,0.59,28241.0],[8.28,3.77,5348.0],[6.3,5.8,2334.0],[5.44,6.68,3210.0],[20.41,-8.27,183.0],[7.8,4.36,7078.0],[8.51,3.72,22997.0],[10.34,2.04,1258.0],[9.65,2.77,23720.0],[8.74,3.88,25510.0],[8.4,4.27,2225.0],[5.48,7.2,4319.0],[11.9,0.78,852.0],[8.42,4.32,658.0],[8.67,4.21,21711.0],[12.9,0.06,563.0],[7.68,5.29,11472.0],[12.76,0.22,789.0],[3.53,9.47,598.0],[8.85,4.17,86619.0],[9.57,3.47,2178.0],[8.41,4.71,10208.0],[5.88,7.27,2431.0],[9.25,3.9,43198.0],[8.51,4.68,8096.0],[9.53,3.68,30495.0],[9.94,3.29,39647.0],[9.11,4.17,55033.0],[10.13,3.25,61562.0],[11.95,1.46,3423.0],[5.62,7.8,1169.0],[11.13,2.3,4192.0],[9.43,4.1,87452.0],[7.04,6.51,5865.0],[8.58,5.02,6382.0],[3.04,10.67,282.0],[10.83,2.9,23786.0],[7.12,6.68,1171.0],[4.6,9.32,3170.0],[6.32,7.73,308.0],[9.7,4.43,67343.0],[8.48,5.75,8385.0],[11.44,2.87,72114.0],[8.57,5.76,9456.0],[8.19,6.15,4124.0],[10.79,3.67,36728.0],[7.3,7.25,8295.0],[10.01,4.55,7362.0],[13.61,0.95,969.0],[10.08,4.73,5742.0],[10.41,4.44,28185.0],[11.17,3.9,30887.0],[13.07,2.0,230.0],[8.84,6.31,4383.0],[9.99,5.3,675.0],[6.91,8.42,497.0],[11.18,4.24,71549.0],[9.01,6.46,4771.0],[9.99,5.55,11510.0],[5.8,9.78,331.0],[10.04,5.54,11126.0],[16.9,-1.25,660.0],[11.01,4.74,3070.0],[10.73,5.08,13363.0],[10.72,5.13,11729.0],[8.46,7.45,5376.0],[13.3,2.7,433.0],[8.66,7.37,3164.0],[10.22,5.88,10359.0],[9.2,6.9,10357.0],[8.35,7.84,1353.0],[10.62,5.61,22773.0],[12.03,4.29,1475.0],[11.03,5.35,76362.0],[11.28,5.15,104222.0],[9.63,6.81,1499.0],[12.57,4.1,332.0],[9.75,6.94,10790.0],[11.0,5.84,22157.0],[8.64,8.26,2775.0],[11.28,5.63,11008.0],[16.98,0.0,125.0],[12.03,4.97,14548.0],[10.22,6.84,1502.0],[9.15,8.17,1123.0],[10.35,7.0,1903.0],[12.65,4.84,107430.0],[11.23,6.27,1270.0],[12.01,5.53,51599.0],[5.4,12.18,5252.0],[9.66,7.93,2123.0],[10.86,6.77,6451.0],[12.08,5.68,2091.0],[12.63,5.21,8997.0],[11.6,6.26,3758.0],[12.62,5.33,72858.0],[11.99,6.09,2732.0],[9.52,8.66,447.0],[10.58,7.78,2454.0],[11.26,7.15,3842.0],[12.12,6.34,6538.0],[16.08,2.41,35144.0],[9.5,9.0,454.0],[8.57,10.18,654.0],[13.56,5.31,15120.0],[9.49,9.41,791.0],[15.86,3.11,3475.0],[11.72,7.29,7960.0],[13.16,5.89,306.0],[6.52,12.8,349.0],[13.83,5.49,1205.0],[11.45,8.02,134662.0],[13.73,6.03,1746.0],[13.14,6.63,13183.0],[13.99,5.89,8666.0],[23.16,-3.25,354.0],[14.96,5.19,54.0],[8.94,11.59,2036.0],[11.25,9.33,5677.0],[15.79,4.94,847.0],[17.49,3.25,305.0],[6.59,14.31,287.0],[11.91,9.08,2032.0],[14.62,6.41,6106.0],[9.73,11.49,298.0],[12.53,9.11,1088.0],[12.35,9.42,3055.0],[12.03,9.91,3095.0],[18.1,3.84,979.0],[12.62,9.43,3327.0],[22.2,-0.09,729.0],[21.63,0.66,333.0],[14.64,7.67,1172.0],[15.22,7.53,4032.0],[8.38,14.55,353.0],[13.03,9.9,8151.0],[13.03,10.04,4464.0],[8.51,14.65,289.0],[9.19,14.04,316.0],[6.71,16.61,634.0],[18.17,5.36,911.0],[18.97,4.63,257.0],[11.74,12.09,755.0],[17.81,6.12,823.0],[17.96,6.0,94.0],[17.56,6.53,2123.0],[17.23,6.92,336.0],[10.93,13.55,281.0],[13.27,11.42,3304.0],[15.8,9.32,50.0],[23.79,1.52,595.0],[21.01,4.53,1489.0],[14.16,11.66,80377.0],[14.18,11.82,1093.0],[17.84,8.51,527.0],[16.97,9.49,352.0],[17.05,9.47,1506.0],[15.67,11.04,3312.0],[15.35,11.4,2261.0],[15.91,10.94,4206.0],[19.57,7.4,2033.0],[15.72,11.42,66656.0],[15.98,11.53,5307.0],[13.44,14.08,3003.0],[17.38,10.26,1275.0],[17.31,10.8,518.0],[15.96,12.88,1852.0],[14.92,14.32,62709.0],[18.7,10.7,2222.0],[17.69,11.88,297.0],[20.05,9.61,1075.0],[18.88,10.93,1708.0],[16.24,13.57,146383.0],[15.21,14.69,346.0],[18.71,13.2,1117.0],[19.65,12.41,3963.0],[22.9,9.57,1790.0],[16.08,16.46,1021.0],[17.55,15.24,341.0],[24.56,8.33,283.0],[21.79,11.3,734.0],[17.12,16.51,1030.0],[26.07,8.38,2791.0],[19.73,15.21,668.0],[25.91,9.23,1460.0],[20.9,14.42,574.0],[8.53,27.11,245.0],[17.19,18.64,77636.0],[33.43,2.47,430.0],[20.93,15.14,426.0],[21.19,15.16,526.0],[27.69,8.71,173.0],[25.89,10.78,344.0],[23.32,13.39,1645.0],[17.06,19.92,320.0],[16.5,20.64,246.0],[22.12,15.58,267.0],[31.41,7.29,309.0],[11.31,28.93,289.0],[36.95,3.66,274.0],[27.01,13.65,272.0],[29.21,11.5,2482.0],[27.92,12.86,316.0],[14.33,27.59,292.0],[12.53,29.54,351.0],[27.94,14.77,62.0],[22.05,21.43,311.0],[24.57,19.09,564.0],[35.14,10.55,384.0],[31.34,15.43,1440.0],[27.07,24.83,371.0],[30.07,23.5,673.0],[35.14,20.64,2606.0],[37.24,19.84,425.0],[39.06,18.24,523.0],[27.23,30.78,555.0],[33.98,24.34,4927.0],[37.16,29.1,395.0],[47.09,20.46,159.0],[44.24,32.8,396.0],[40.8,37.73,284.0],[50.86,36.93,447.0]],\"hovertemplate\":\"Airport=%{x}<br>Total Delay (minutes)=%{y}<br>avg_dep_delay=%{customdata[0]}<br>avg_arr_delay=%{customdata[1]}<br>total_flights=%{customdata[2]}<extra></extra>\",\"legendgroup\":\"\",\"marker\":{\"color\":\"#636efa\",\"pattern\":{\"shape\":\"\"}},\"name\":\"\",\"offsetgroup\":\"\",\"orientation\":\"v\",\"showlegend\":false,\"textposition\":\"auto\",\"x\":[\"Wiley Post Will Rogers Memorial\",\"Deadhorse\",\"Snohomish County \",\"Adak\",\"Lewiston-Nez Perce County\",\"Nome\",\"Natrona County Intl\",\"Yakutat\",\"Merle K (Mudhole) Smith\",\"Fairbanks International\",\"Sitka\",\"Pease International Tradeport\",\"Kodiak \",\"Ted Stevens Anchorage International\",\"Bethel\",\"Pocatello Regional\",\"Newport News/Williamsburg International\",\"Ralph Wien Memorial\",\"Guam International\",\"Juneau International\",\"Liberal Municipal\",\"Glacier Park Intl\",\"Tinian International Airport\",\"Ernest A. Love \",\"Lynchburg Municipal-Preston Glenn \",\"Stillwater Regional\",\"Hilo International\",\"Ketchikan International\",\"Texarkana Regional-Webb \",\"Waco Regional\",\"San Angelo Regional /Mathis \",\"Helena Regional\",\"Idaho Falls Regional\",\"St. Petersburg-Clearwater International\",\"Missoula International\",\"Friedman Memorial\",\"Pueblo Memorial\",\"Atlantic City International\",\"Niagara Falls Intl\",\"Kona International At Keahole\",\"Chisholm-Hibbing\",\"Walker \",\"Lihue\",\"Bellingham Intl\",\"Melbourne International \",\"Lake Charles Regional\",\"Henry E. Rohlsen \",\"Lea County Regional\",\"Golden Triangle Regional\",\"Sheppard AFB/Wichita Falls Municipal\",\"Falls International\",\"Tallahassee Regional\",\"Myrtle Beach International\",\"Fort Smith Regional\",\"Craven County Regional\",\"Corpus Christi International\",\"Philadelphia Intl\",\"Greater Rockford\",\"Wilkes-Barre/Scranton Intl\",\"Billings Logan Intl\",\"Arnold Palmer Regional\",\"Tri-Cities Regional\",\"Sonoma Co\",\"Wrangell\",\"Valdosta Regional\",\"Portland Intl\",\"Laredo International\",\"Honolulu International\",\"Gregg County\",\"Daytona Beach International\",\"Valley International\",\"William B Hartsfield-Atlanta Intl\",\"Easterwood \",\"Alexandria International\",\"Yuma MCAS-Yuma International\",\"Elko Regional\",\"San Antonio International\",\"Monroe Regional\",\"San Jose International\",\"Kahului\",\"Del Rio International\",\"Albert J Ellis\",\"Huntsville International \",\"Bert Mooney\",\"Baltimore-Washington International\",\"Boise Air Terminal\",\"Wilmington International\",\"James C. Johnson Petersburg\",\"Columbus Metropolitan\",\"Manchester\",\"Southeast Texas Regional\",\"Sacramento International\",\"Evansville Regional\",\"Charlotte/Douglas International\",\"Baton Rouge Metropolitan, Ryan \",\"Dallas Love \",\"Seattle-Tacoma Intl\",\"Austin-Bergstrom International\",\"Charleston AFB/International\",\"Tulsa International\",\"Abilene Regional\",\"New Orleans International \",\"St George Muni\",\"Pago Pago International\",\"Jackson International\",\"Santa Maria Pub/Capt G Allan Hancock \",\"Adams \",\"Southwest Georgia Regional\",\"John Wayne /Orange Co\",\"Jacksonville International\",\"Glynco Jetport\",\"Long Beach (Daugherty )\",\"Bradley International\",\"Bush \",\"Pittsburgh International\",\"McAllen Miller International\",\"Tweed-New Haven\",\"Miami International\",\"Columbia Metropolitan\",\"Greenville-Spartanburg\",\"El Paso International\",\"William P Hobby\",\"Spokane Intl\",\"Lafayette Regional\",\"Lubbock International\",\"Elmira/Corning Regional\",\"Piedmont Triad International\",\"Indianapolis International\",\"Roanoke Regional/ Woodrum \",\"Metropolitan Oakland International\",\"Kansas City International\",\"Gainesville Regional\",\"Midland International\",\"La Crosse Municipal\",\"Tyler Pounds \",\"Port Columbus Intl\",\"Central Nebraska Regional \",\"Memphis International\",\"Tri-Cities\",\"Lawton-Ft Sill Regional\",\"George Bush Intercontinental\",\"Lehigh Valley International\",\"Albuquerque International\",\"Amarillo International\",\"San Diego International-Lindbergh \",\"Theodore F Green State\",\"Washington Dulles International\",\"Tampa International \",\"Salt Lake City Intl\",\"John F Kennedy Intl\",\"Key West International\",\"Brownsville/S.Padre Island International\",\"Sarasota Bradenton International\",\"Phoenix Sky Harbor International\",\"James M Cox Dayton Intl\",\"Northwest Arkansas Regional\",\"Scotts Bluff County\",\"Southwest Florida International\",\"Mbs International\",\"Charlotte County\",\"Cedar City Muni\",\"Ronald Reagan Washington National\",\"Birmingham International\",\"Detroit Metropolitan-Wayne County\",\"Ontario International\",\"Portland International Jetport\",\"Nashville International\",\"McGhee-Tyson\",\"Savannah International\",\"Toledo Express\",\"Albany Cty\",\"Raleigh-Durham International\",\"Lambert-St Louis International\",\"Tri-State/Walker-Long \",\"Lovell \",\"Dothan \",\"Hilton Head\",\"Orlando International\",\"Wichita Mid-Continent\",\"Richmond International\",\"Garden City Regional\",\"Norfolk International\",\"Joslin Field - Magic Valley\",\"Harrisburg Intl\",\"Burbank-Glendale-Pasadena\",\"Eppley Airfield\",\"Pensacola Regional\",\"Scott AFB/MidAmerica \",\"Eglin Air Force Base\",\"Louisville International-Standiford \",\"Tucson International\",\"Durango-La Plata County\",\"Cleveland-Hopkins Intl\",\"Fayetteville Municipal\",\"McCarran International\",\"Los Angeles International\",\"Robert Gray AAF\",\"Rickenbacker International \",\"Will Rogers World\",\"Cincinnati Northern Kentucky Intl\",\"Long Island - MacArthur\",\"Buffalo Niagara Intl\",\"St Cloud Regional\",\"General Mitchell International\",\"Bishop\",\"Central Wisconsin\",\"Monterey Peninsula\",\"Denver Intl\",\"Bangor International\",\"Fort Lauderdale-Hollywood Int'l\",\"Orlando Sanford\",\"Cyril E. King\",\"Syracuse-Hancock Intl\",\"Greater Peoria Regional\",\"Reno/Tahoe International\",\"Springfield-Branson Regional\",\"Minneapolis-St Paul Intl\",\"Charlottesville-Albermarle\",\"Dubuque Municipal\",\"Mobile Regional\",\"Asheville Regional\",\"Greater Rochester Int'l\",\"Chicago Midway\",\"Erie Intl\",\"Flagstaff Pulliam\",\"Palm Beach International\",\"Manhattan Regional\",\"Gallatin \",\"Des Moines International\",\"Provo Muni\",\"Rock Springs-Sweetwater County\",\"Montrose Regional\",\"Dallas-Fort Worth International\",\"Montgomery Regional Apt\",\"Luis Munoz Marin International\",\"Kent County International\",\"Sloulin Field International\",\"Owensboro-Daviess County\",\"Gulfport-Biloxi Regional\",\"Fresno Yosemite International\",\"Lincoln Municipal\",\"Houghton County Memorial\",\"Kearney Municipal\",\"Austin Straubel International\",\"Dane County Regional\",\"Waterloo Municipal\",\"Meadows \",\"Shreveport Regional\",\"Akron-Canton Regional\",\"Grand Forks International\",\"Fort Wayne International\",\"Great Falls Intl\",\"Gillette-Campbell County\",\"Trenton-Mercer County \",\"Eastern Iowa \",\"Mercedita\",\"Palm Springs International\",\"Blue Grass \",\"North Platte Regional \",\"Muskegon County\",\"Roswell Industrial Air Center\",\"Minot International\",\"Vernal\",\"Capital\",\"Kalamazoo County\",\"Ogdensburg Intl\",\"Outagamie County Regional\",\"Stockton Metro\",\"Canyonlands \",\"South Bend Regional\",\"Ogden-Hinckley\",\"Sioux Gateway \",\"Yampa Valley\",\"LaGuardia\",\"Rafael Hernandez\",\"University Park\",\"Bemidji-Beltrami County\",\"Capital City\",\"Joe Foss \",\"San Luis Obispo Co-McChesney \",\"City of Colorado Springs Muni\",\"Yeager\",\"Gen Edw L Logan Intl\",\"Westchester Cty\",\"Santa Barbara Municipal\",\"Central Illinois Regional\",\"Worcester Regional\",\"Bismarck Municipal\",\"Newark Intl\",\"Quad City\",\"Watertown Intl\",\"Duluth International\",\"Mahlon Sweet \",\"Chicago O'Hare International\",\"Joplin Regional\",\"University of Illinois-Willard\",\"Burlington International\",\"Rogue Valley International\",\"Cherry Capital\",\"Aberdeen Regional\",\"Delta County\",\"Stewart\",\"Columbia Regional\",\"Hector International\",\"Santa Fe Municipal\",\"Rapid City Regional\",\"Barkley Regional\",\"Yellowstone Regional\",\"San Francisco International\",\"Tompkins Cty \",\"Cape Girardeau Municipal\",\"Redding Municipal\",\"Cheyenne\",\"Rhinelander-Oneida County\",\"Rochester International\",\"Chippewa Valley Regional\",\"Gunnison County\",\"Quincy Municipal-Baldwin \",\"Ford\",\"Laramie Regional\",\"Alpena County Regional \",\"Greenbrier Valley\",\"Jackson Hole\",\"Chippewa County International\",\"Brainerd-Crow Wing County Regional\",\"Hattiesburg-Laurel Regional\",\"Hagerstown Regional-Richard Henson \",\"Shenandoah Valley Regional\",\"Hays Municipal\",\"Binghamton Regional\",\"Roberts \",\"Benedum\",\"Arcata\",\"Eagle County Regional\",\"Salina Municipal\",\"Key \",\"Marquette County Airport\",\"Aspen-Pitkin Co/Sardy \",\"Pellston Regional  of Emmet County\",\"North Bend Muni\",\"Mammoth Yosemite\",\"Devils Lake Municipal-Knoke \",\"Jamestown Municipal\"],\"xaxis\":\"x\",\"y\":[-21.02,-16.52,-16.0,-15.0,-13.63,-12.62,-11.13,-10.94,-10.76,-9.21,-8.82,-8.54,-7.16,-5.47,-5.1,-4.2,-4.09,-3.73,-2.44,-2.36,-2.33,-1.23,-0.35,-0.12,-0.1,0.09,0.18,0.21,0.27,0.28,0.42,0.45,0.54,0.71,1.27,1.69,1.79,1.84,2.0,2.39,2.53,2.81,2.84,3.17,3.18,3.21,3.68,3.74,3.94,3.96,4.07,4.2,5.17,5.39,5.43,5.57,6.03,6.41,6.42,6.51,6.65,6.67,6.77,6.8,6.87,6.87,6.91,7.0,7.65,7.67,7.73,7.75,8.02,8.1,8.18,8.22,8.39,8.43,8.46,8.46,8.55,8.64,8.67,8.83,9.01,9.24,9.27,9.43,9.44,9.72,9.82,9.87,9.88,9.91,9.97,10.18,10.19,10.32,10.32,10.51,10.67,10.72,10.84,10.89,10.95,10.95,10.99,11.12,11.16,11.17,11.19,11.24,11.51,11.59,11.6,11.62,11.66,11.7,11.77,11.79,11.82,11.92,12.05,12.1,12.12,12.14,12.16,12.23,12.38,12.42,12.62,12.67,12.68,12.68,12.74,12.88,12.96,12.97,12.98,13.0,13.02,13.04,13.12,13.15,13.15,13.19,13.21,13.23,13.28,13.38,13.41,13.42,13.43,13.53,13.55,13.6,13.71,13.73,13.8,13.92,14.05,14.13,14.23,14.31,14.33,14.34,14.46,14.55,14.56,14.56,14.81,14.85,15.07,15.07,15.15,15.29,15.33,15.42,15.47,15.54,15.58,15.58,15.65,15.75,15.81,15.85,15.91,16.0,16.03,16.1,16.1,16.19,16.23,16.32,16.38,16.43,16.44,16.67,16.69,16.84,16.9,16.91,16.98,17.0,17.06,17.32,17.35,17.49,17.5,17.54,17.58,17.59,17.63,17.76,17.84,17.86,17.95,18.08,18.18,18.36,18.41,18.46,18.49,18.5,18.75,18.87,18.9,18.97,19.01,19.05,19.32,19.32,19.47,19.76,19.77,19.88,19.91,20.15,20.53,20.58,20.73,20.74,20.9,20.99,21.03,21.22,21.64,21.77,21.94,21.94,22.05,22.11,22.29,22.31,22.75,22.93,22.93,23.07,23.16,23.23,23.32,23.53,23.6,23.83,23.93,23.96,24.09,24.15,24.48,24.69,25.12,25.31,25.54,25.82,26.0,26.35,26.46,26.52,26.71,26.75,26.85,26.97,27.14,27.51,27.52,27.64,28.11,28.84,29.24,29.4,29.57,29.66,29.81,29.81,29.9,31.91,32.06,32.47,32.54,32.79,32.89,33.09,33.63,34.45,34.94,35.14,35.32,35.64,35.83,35.9,36.07,36.35,36.4,36.67,36.71,36.98,37.14,37.7,38.7,40.24,40.61,40.66,40.71,40.78,41.92,42.07,42.71,43.48,43.66,45.69,46.77,51.9,53.57,55.78,57.08,57.3,58.01,58.32,66.26,67.55,77.04,78.53,87.79],\"yaxis\":\"y\",\"type\":\"bar\"}],                        {\"template\":{\"data\":{\"histogram2dcontour\":[{\"type\":\"histogram2dcontour\",\"colorbar\":{\"outlinewidth\":0,\"ticks\":\"\"},\"colorscale\":[[0.0,\"#0d0887\"],[0.1111111111111111,\"#46039f\"],[0.2222222222222222,\"#7201a8\"],[0.3333333333333333,\"#9c179e\"],[0.4444444444444444,\"#bd3786\"],[0.5555555555555556,\"#d8576b\"],[0.6666666666666666,\"#ed7953\"],[0.7777777777777778,\"#fb9f3a\"],[0.8888888888888888,\"#fdca26\"],[1.0,\"#f0f921\"]]}],\"choropleth\":[{\"type\":\"choropleth\",\"colorbar\":{\"outlinewidth\":0,\"ticks\":\"\"}}],\"histogram2d\":[{\"type\":\"histogram2d\",\"colorbar\":{\"outlinewidth\":0,\"ticks\":\"\"},\"colorscale\":[[0.0,\"#0d0887\"],[0.1111111111111111,\"#46039f\"],[0.2222222222222222,\"#7201a8\"],[0.3333333333333333,\"#9c179e\"],[0.4444444444444444,\"#bd3786\"],[0.5555555555555556,\"#d8576b\"],[0.6666666666666666,\"#ed7953\"],[0.7777777777777778,\"#fb9f3a\"],[0.8888888888888888,\"#fdca26\"],[1.0,\"#f0f921\"]]}],\"heatmap\":[{\"type\":\"heatmap\",\"colorbar\":{\"outlinewidth\":0,\"ticks\":\"\"},\"colorscale\":[[0.0,\"#0d0887\"],[0.1111111111111111,\"#46039f\"],[0.2222222222222222,\"#7201a8\"],[0.3333333333333333,\"#9c179e\"],[0.4444444444444444,\"#bd3786\"],[0.5555555555555556,\"#d8576b\"],[0.6666666666666666,\"#ed7953\"],[0.7777777777777778,\"#fb9f3a\"],[0.8888888888888888,\"#fdca26\"],[1.0,\"#f0f921\"]]}],\"heatmapgl\":[{\"type\":\"heatmapgl\",\"colorbar\":{\"outlinewidth\":0,\"ticks\":\"\"},\"colorscale\":[[0.0,\"#0d0887\"],[0.1111111111111111,\"#46039f\"],[0.2222222222222222,\"#7201a8\"],[0.3333333333333333,\"#9c179e\"],[0.4444444444444444,\"#bd3786\"],[0.5555555555555556,\"#d8576b\"],[0.6666666666666666,\"#ed7953\"],[0.7777777777777778,\"#fb9f3a\"],[0.8888888888888888,\"#fdca26\"],[1.0,\"#f0f921\"]]}],\"contourcarpet\":[{\"type\":\"contourcarpet\",\"colorbar\":{\"outlinewidth\":0,\"ticks\":\"\"}}],\"contour\":[{\"type\":\"contour\",\"colorbar\":{\"outlinewidth\":0,\"ticks\":\"\"},\"colorscale\":[[0.0,\"#0d0887\"],[0.1111111111111111,\"#46039f\"],[0.2222222222222222,\"#7201a8\"],[0.3333333333333333,\"#9c179e\"],[0.4444444444444444,\"#bd3786\"],[0.5555555555555556,\"#d8576b\"],[0.6666666666666666,\"#ed7953\"],[0.7777777777777778,\"#fb9f3a\"],[0.8888888888888888,\"#fdca26\"],[1.0,\"#f0f921\"]]}],\"surface\":[{\"type\":\"surface\",\"colorbar\":{\"outlinewidth\":0,\"ticks\":\"\"},\"colorscale\":[[0.0,\"#0d0887\"],[0.1111111111111111,\"#46039f\"],[0.2222222222222222,\"#7201a8\"],[0.3333333333333333,\"#9c179e\"],[0.4444444444444444,\"#bd3786\"],[0.5555555555555556,\"#d8576b\"],[0.6666666666666666,\"#ed7953\"],[0.7777777777777778,\"#fb9f3a\"],[0.8888888888888888,\"#fdca26\"],[1.0,\"#f0f921\"]]}],\"mesh3d\":[{\"type\":\"mesh3d\",\"colorbar\":{\"outlinewidth\":0,\"ticks\":\"\"}}],\"scatter\":[{\"fillpattern\":{\"fillmode\":\"overlay\",\"size\":10,\"solidity\":0.2},\"type\":\"scatter\"}],\"parcoords\":[{\"type\":\"parcoords\",\"line\":{\"colorbar\":{\"outlinewidth\":0,\"ticks\":\"\"}}}],\"scatterpolargl\":[{\"type\":\"scatterpolargl\",\"marker\":{\"colorbar\":{\"outlinewidth\":0,\"ticks\":\"\"}}}],\"bar\":[{\"error_x\":{\"color\":\"#2a3f5f\"},\"error_y\":{\"color\":\"#2a3f5f\"},\"marker\":{\"line\":{\"color\":\"#E5ECF6\",\"width\":0.5},\"pattern\":{\"fillmode\":\"overlay\",\"size\":10,\"solidity\":0.2}},\"type\":\"bar\"}],\"scattergeo\":[{\"type\":\"scattergeo\",\"marker\":{\"colorbar\":{\"outlinewidth\":0,\"ticks\":\"\"}}}],\"scatterpolar\":[{\"type\":\"scatterpolar\",\"marker\":{\"colorbar\":{\"outlinewidth\":0,\"ticks\":\"\"}}}],\"histogram\":[{\"marker\":{\"pattern\":{\"fillmode\":\"overlay\",\"size\":10,\"solidity\":0.2}},\"type\":\"histogram\"}],\"scattergl\":[{\"type\":\"scattergl\",\"marker\":{\"colorbar\":{\"outlinewidth\":0,\"ticks\":\"\"}}}],\"scatter3d\":[{\"type\":\"scatter3d\",\"line\":{\"colorbar\":{\"outlinewidth\":0,\"ticks\":\"\"}},\"marker\":{\"colorbar\":{\"outlinewidth\":0,\"ticks\":\"\"}}}],\"scattermapbox\":[{\"type\":\"scattermapbox\",\"marker\":{\"colorbar\":{\"outlinewidth\":0,\"ticks\":\"\"}}}],\"scatterternary\":[{\"type\":\"scatterternary\",\"marker\":{\"colorbar\":{\"outlinewidth\":0,\"ticks\":\"\"}}}],\"scattercarpet\":[{\"type\":\"scattercarpet\",\"marker\":{\"colorbar\":{\"outlinewidth\":0,\"ticks\":\"\"}}}],\"carpet\":[{\"aaxis\":{\"endlinecolor\":\"#2a3f5f\",\"gridcolor\":\"white\",\"linecolor\":\"white\",\"minorgridcolor\":\"white\",\"startlinecolor\":\"#2a3f5f\"},\"baxis\":{\"endlinecolor\":\"#2a3f5f\",\"gridcolor\":\"white\",\"linecolor\":\"white\",\"minorgridcolor\":\"white\",\"startlinecolor\":\"#2a3f5f\"},\"type\":\"carpet\"}],\"table\":[{\"cells\":{\"fill\":{\"color\":\"#EBF0F8\"},\"line\":{\"color\":\"white\"}},\"header\":{\"fill\":{\"color\":\"#C8D4E3\"},\"line\":{\"color\":\"white\"}},\"type\":\"table\"}],\"barpolar\":[{\"marker\":{\"line\":{\"color\":\"#E5ECF6\",\"width\":0.5},\"pattern\":{\"fillmode\":\"overlay\",\"size\":10,\"solidity\":0.2}},\"type\":\"barpolar\"}],\"pie\":[{\"automargin\":true,\"type\":\"pie\"}]},\"layout\":{\"autotypenumbers\":\"strict\",\"colorway\":[\"#636efa\",\"#EF553B\",\"#00cc96\",\"#ab63fa\",\"#FFA15A\",\"#19d3f3\",\"#FF6692\",\"#B6E880\",\"#FF97FF\",\"#FECB52\"],\"font\":{\"color\":\"#2a3f5f\"},\"hovermode\":\"closest\",\"hoverlabel\":{\"align\":\"left\"},\"paper_bgcolor\":\"white\",\"plot_bgcolor\":\"#E5ECF6\",\"polar\":{\"bgcolor\":\"#E5ECF6\",\"angularaxis\":{\"gridcolor\":\"white\",\"linecolor\":\"white\",\"ticks\":\"\"},\"radialaxis\":{\"gridcolor\":\"white\",\"linecolor\":\"white\",\"ticks\":\"\"}},\"ternary\":{\"bgcolor\":\"#E5ECF6\",\"aaxis\":{\"gridcolor\":\"white\",\"linecolor\":\"white\",\"ticks\":\"\"},\"baxis\":{\"gridcolor\":\"white\",\"linecolor\":\"white\",\"ticks\":\"\"},\"caxis\":{\"gridcolor\":\"white\",\"linecolor\":\"white\",\"ticks\":\"\"}},\"coloraxis\":{\"colorbar\":{\"outlinewidth\":0,\"ticks\":\"\"}},\"colorscale\":{\"sequential\":[[0.0,\"#0d0887\"],[0.1111111111111111,\"#46039f\"],[0.2222222222222222,\"#7201a8\"],[0.3333333333333333,\"#9c179e\"],[0.4444444444444444,\"#bd3786\"],[0.5555555555555556,\"#d8576b\"],[0.6666666666666666,\"#ed7953\"],[0.7777777777777778,\"#fb9f3a\"],[0.8888888888888888,\"#fdca26\"],[1.0,\"#f0f921\"]],\"sequentialminus\":[[0.0,\"#0d0887\"],[0.1111111111111111,\"#46039f\"],[0.2222222222222222,\"#7201a8\"],[0.3333333333333333,\"#9c179e\"],[0.4444444444444444,\"#bd3786\"],[0.5555555555555556,\"#d8576b\"],[0.6666666666666666,\"#ed7953\"],[0.7777777777777778,\"#fb9f3a\"],[0.8888888888888888,\"#fdca26\"],[1.0,\"#f0f921\"]],\"diverging\":[[0,\"#8e0152\"],[0.1,\"#c51b7d\"],[0.2,\"#de77ae\"],[0.3,\"#f1b6da\"],[0.4,\"#fde0ef\"],[0.5,\"#f7f7f7\"],[0.6,\"#e6f5d0\"],[0.7,\"#b8e186\"],[0.8,\"#7fbc41\"],[0.9,\"#4d9221\"],[1,\"#276419\"]]},\"xaxis\":{\"gridcolor\":\"white\",\"linecolor\":\"white\",\"ticks\":\"\",\"title\":{\"standoff\":15},\"zerolinecolor\":\"white\",\"automargin\":true,\"zerolinewidth\":2},\"yaxis\":{\"gridcolor\":\"white\",\"linecolor\":\"white\",\"ticks\":\"\",\"title\":{\"standoff\":15},\"zerolinecolor\":\"white\",\"automargin\":true,\"zerolinewidth\":2},\"scene\":{\"xaxis\":{\"backgroundcolor\":\"#E5ECF6\",\"gridcolor\":\"white\",\"linecolor\":\"white\",\"showbackground\":true,\"ticks\":\"\",\"zerolinecolor\":\"white\",\"gridwidth\":2},\"yaxis\":{\"backgroundcolor\":\"#E5ECF6\",\"gridcolor\":\"white\",\"linecolor\":\"white\",\"showbackground\":true,\"ticks\":\"\",\"zerolinecolor\":\"white\",\"gridwidth\":2},\"zaxis\":{\"backgroundcolor\":\"#E5ECF6\",\"gridcolor\":\"white\",\"linecolor\":\"white\",\"showbackground\":true,\"ticks\":\"\",\"zerolinecolor\":\"white\",\"gridwidth\":2}},\"shapedefaults\":{\"line\":{\"color\":\"#2a3f5f\"}},\"annotationdefaults\":{\"arrowcolor\":\"#2a3f5f\",\"arrowhead\":0,\"arrowwidth\":1},\"geo\":{\"bgcolor\":\"white\",\"landcolor\":\"#E5ECF6\",\"subunitcolor\":\"white\",\"showland\":true,\"showlakes\":true,\"lakecolor\":\"white\"},\"title\":{\"x\":0.05},\"mapbox\":{\"style\":\"light\"}}},\"xaxis\":{\"anchor\":\"y\",\"domain\":[0.0,1.0],\"title\":{\"text\":\"Airport\"},\"tickvals\":[]},\"yaxis\":{\"anchor\":\"x\",\"domain\":[0.0,1.0],\"title\":{\"text\":\"Total Delay (minutes)\"}},\"legend\":{\"tracegroupgap\":0},\"title\":{\"text\":\"Overall Delay of All Airports\"},\"barmode\":\"relative\"},                        {\"responsive\": true}                    )                };                            </script>        </div>\n",
       "</body>\n",
       "</html>"
      ]
     },
     "metadata": {},
     "output_type": "display_data"
    },
    {
     "output_type": "stream",
     "name": "stdout",
     "output_type": "stream",
     "text": [
      "+------------+--------------------+-------------+-----+-------------+-------------+-----------+-------------+\n|airport_iata|             airport|         city|state|avg_dep_delay|avg_arr_delay|total_delay|total_flights|\n+------------+--------------------+-------------+-----+-------------+-------------+-----------+-------------+\n|         PHL|   Philadelphia Intl| Philadelphia|   PA|         6.44|        -0.41|       6.03|        53078|\n|         PDX|       Portland Intl|     Portland|   OR|         5.74|         1.13|       6.87|        27451|\n|         HNL|Honolulu Internat...|     Honolulu|   HI|         4.11|         2.89|        7.0|        23124|\n|         ATL|William B Hartsfi...|      Atlanta|   GA|         7.79|        -0.04|       7.75|       185237|\n|         SAT|San Antonio Inter...|  San Antonio|   TX|         5.88|         2.51|       8.39|        19270|\n|         SJC|San Jose Internat...|     San Jose|   CA|         6.35|         2.11|       8.46|        27968|\n|         OGG|             Kahului|      Kahului|   HI|         6.19|         2.27|       8.46|        12267|\n|         BWI|Baltimore-Washing...|    Baltimore|   MD|         9.41|         -0.4|       9.01|        44756|\n|         SMF|Sacramento Intern...|   Sacramento|   CA|         6.78|         3.09|       9.87|        22703|\n|         CLT|Charlotte/Douglas...|    Charlotte|   NC|         8.02|         1.89|       9.91|       111040|\n|         DAL|        Dallas Love |       Dallas|   TX|        10.18|          0.0|      10.18|        34899|\n|         SEA| Seattle-Tacoma Intl|      Seattle|   WA|         8.59|          1.6|      10.19|        60345|\n|         AUS|Austin-Bergstrom ...|       Austin|   TX|         8.05|         2.27|      10.32|        29913|\n|         CHS|Charleston AFB/In...|   Charleston|   SC|         6.38|         3.94|      10.32|        10479|\n|         MSY|New Orleans Inter...|  New Orleans|   LA|          8.3|         2.42|      10.72|        27810|\n|         SNA|John Wayne /Orang...|    Santa Ana|   CA|         7.67|         3.49|      11.16|        19683|\n|         JAX|Jacksonville Inte...| Jacksonville|   FL|         7.99|         3.18|      11.17|        16148|\n|         BDL|Bradley Internati...|Windsor Locks|   CT|         7.55|         3.96|      11.51|        13900|\n|         PIT|Pittsburgh Intern...|   Pittsburgh|   PA|         8.39|         3.21|       11.6|        23147|\n|         MIA| Miami International|        Miami|   FL|         9.21|         2.49|       11.7|        45892|\n+------------+--------------------+-------------+-----+-------------+-------------+-----------+-------------+\n\n"
     ]
    },
    {
     "output_type": "display_data",
     "data": {
      "text/html": [
       "<html>\n",
       "<head><meta charset=\"utf-8\" /></head>\n",
       "<body>\n",
       "    <div>            <script src=\"https://cdnjs.cloudflare.com/ajax/libs/mathjax/2.7.5/MathJax.js?config=TeX-AMS-MML_SVG\"></script><script type=\"text/javascript\">if (window.MathJax && window.MathJax.Hub && window.MathJax.Hub.Config) {window.MathJax.Hub.Config({SVG: {font: \"STIX-Web\"}});}</script>                <script type=\"text/javascript\">window.PlotlyConfig = {MathJaxConfig: 'local'};</script>\n",
       "        <script src=\"https://cdn.plot.ly/plotly-2.12.1.min.js\"></script>                <div id=\"f9e8a0e8-1b71-4ecf-bf8e-f54f52c0bb83\" class=\"plotly-graph-div\" style=\"height:600px; width:100%;\"></div>            <script type=\"text/javascript\">                                    window.PLOTLYENV=window.PLOTLYENV || {};                                    if (document.getElementById(\"f9e8a0e8-1b71-4ecf-bf8e-f54f52c0bb83\")) {                    Plotly.newPlot(                        \"f9e8a0e8-1b71-4ecf-bf8e-f54f52c0bb83\",                        [{\"alignmentgroup\":\"True\",\"hovertemplate\":\"Average Total Delay (minutes)=%{marker.color}<br>Airport=%{y}<extra></extra>\",\"legendgroup\":\"\",\"marker\":{\"color\":[6.03,6.87,7.0,7.75,8.39,8.46,8.46,9.01,9.87,9.91,10.18,10.19,10.32,10.32,10.72,11.16,11.17,11.51,11.6,11.7],\"coloraxis\":\"coloraxis\",\"pattern\":{\"shape\":\"\"}},\"name\":\"\",\"offsetgroup\":\"\",\"orientation\":\"h\",\"showlegend\":false,\"textposition\":\"auto\",\"x\":[6.03,6.87,7.0,7.75,8.39,8.46,8.46,9.01,9.87,9.91,10.18,10.19,10.32,10.32,10.72,11.16,11.17,11.51,11.6,11.7],\"xaxis\":\"x\",\"y\":[\"Philadelphia Intl\",\"Portland Intl\",\"Honolulu International\",\"William B Hartsfield-Atlanta Intl\",\"San Antonio International\",\"San Jose International\",\"Kahului\",\"Baltimore-Washington International\",\"Sacramento International\",\"Charlotte/Douglas International\",\"Dallas Love \",\"Seattle-Tacoma Intl\",\"Austin-Bergstrom International\",\"Charleston AFB/International\",\"New Orleans International \",\"John Wayne /Orange Co\",\"Jacksonville International\",\"Bradley International\",\"Pittsburgh International\",\"Miami International\"],\"yaxis\":\"y\",\"type\":\"bar\"}],                        {\"template\":{\"data\":{\"histogram2dcontour\":[{\"type\":\"histogram2dcontour\",\"colorbar\":{\"outlinewidth\":0,\"ticks\":\"\"},\"colorscale\":[[0.0,\"#0d0887\"],[0.1111111111111111,\"#46039f\"],[0.2222222222222222,\"#7201a8\"],[0.3333333333333333,\"#9c179e\"],[0.4444444444444444,\"#bd3786\"],[0.5555555555555556,\"#d8576b\"],[0.6666666666666666,\"#ed7953\"],[0.7777777777777778,\"#fb9f3a\"],[0.8888888888888888,\"#fdca26\"],[1.0,\"#f0f921\"]]}],\"choropleth\":[{\"type\":\"choropleth\",\"colorbar\":{\"outlinewidth\":0,\"ticks\":\"\"}}],\"histogram2d\":[{\"type\":\"histogram2d\",\"colorbar\":{\"outlinewidth\":0,\"ticks\":\"\"},\"colorscale\":[[0.0,\"#0d0887\"],[0.1111111111111111,\"#46039f\"],[0.2222222222222222,\"#7201a8\"],[0.3333333333333333,\"#9c179e\"],[0.4444444444444444,\"#bd3786\"],[0.5555555555555556,\"#d8576b\"],[0.6666666666666666,\"#ed7953\"],[0.7777777777777778,\"#fb9f3a\"],[0.8888888888888888,\"#fdca26\"],[1.0,\"#f0f921\"]]}],\"heatmap\":[{\"type\":\"heatmap\",\"colorbar\":{\"outlinewidth\":0,\"ticks\":\"\"},\"colorscale\":[[0.0,\"#0d0887\"],[0.1111111111111111,\"#46039f\"],[0.2222222222222222,\"#7201a8\"],[0.3333333333333333,\"#9c179e\"],[0.4444444444444444,\"#bd3786\"],[0.5555555555555556,\"#d8576b\"],[0.6666666666666666,\"#ed7953\"],[0.7777777777777778,\"#fb9f3a\"],[0.8888888888888888,\"#fdca26\"],[1.0,\"#f0f921\"]]}],\"heatmapgl\":[{\"type\":\"heatmapgl\",\"colorbar\":{\"outlinewidth\":0,\"ticks\":\"\"},\"colorscale\":[[0.0,\"#0d0887\"],[0.1111111111111111,\"#46039f\"],[0.2222222222222222,\"#7201a8\"],[0.3333333333333333,\"#9c179e\"],[0.4444444444444444,\"#bd3786\"],[0.5555555555555556,\"#d8576b\"],[0.6666666666666666,\"#ed7953\"],[0.7777777777777778,\"#fb9f3a\"],[0.8888888888888888,\"#fdca26\"],[1.0,\"#f0f921\"]]}],\"contourcarpet\":[{\"type\":\"contourcarpet\",\"colorbar\":{\"outlinewidth\":0,\"ticks\":\"\"}}],\"contour\":[{\"type\":\"contour\",\"colorbar\":{\"outlinewidth\":0,\"ticks\":\"\"},\"colorscale\":[[0.0,\"#0d0887\"],[0.1111111111111111,\"#46039f\"],[0.2222222222222222,\"#7201a8\"],[0.3333333333333333,\"#9c179e\"],[0.4444444444444444,\"#bd3786\"],[0.5555555555555556,\"#d8576b\"],[0.6666666666666666,\"#ed7953\"],[0.7777777777777778,\"#fb9f3a\"],[0.8888888888888888,\"#fdca26\"],[1.0,\"#f0f921\"]]}],\"surface\":[{\"type\":\"surface\",\"colorbar\":{\"outlinewidth\":0,\"ticks\":\"\"},\"colorscale\":[[0.0,\"#0d0887\"],[0.1111111111111111,\"#46039f\"],[0.2222222222222222,\"#7201a8\"],[0.3333333333333333,\"#9c179e\"],[0.4444444444444444,\"#bd3786\"],[0.5555555555555556,\"#d8576b\"],[0.6666666666666666,\"#ed7953\"],[0.7777777777777778,\"#fb9f3a\"],[0.8888888888888888,\"#fdca26\"],[1.0,\"#f0f921\"]]}],\"mesh3d\":[{\"type\":\"mesh3d\",\"colorbar\":{\"outlinewidth\":0,\"ticks\":\"\"}}],\"scatter\":[{\"fillpattern\":{\"fillmode\":\"overlay\",\"size\":10,\"solidity\":0.2},\"type\":\"scatter\"}],\"parcoords\":[{\"type\":\"parcoords\",\"line\":{\"colorbar\":{\"outlinewidth\":0,\"ticks\":\"\"}}}],\"scatterpolargl\":[{\"type\":\"scatterpolargl\",\"marker\":{\"colorbar\":{\"outlinewidth\":0,\"ticks\":\"\"}}}],\"bar\":[{\"error_x\":{\"color\":\"#2a3f5f\"},\"error_y\":{\"color\":\"#2a3f5f\"},\"marker\":{\"line\":{\"color\":\"#E5ECF6\",\"width\":0.5},\"pattern\":{\"fillmode\":\"overlay\",\"size\":10,\"solidity\":0.2}},\"type\":\"bar\"}],\"scattergeo\":[{\"type\":\"scattergeo\",\"marker\":{\"colorbar\":{\"outlinewidth\":0,\"ticks\":\"\"}}}],\"scatterpolar\":[{\"type\":\"scatterpolar\",\"marker\":{\"colorbar\":{\"outlinewidth\":0,\"ticks\":\"\"}}}],\"histogram\":[{\"marker\":{\"pattern\":{\"fillmode\":\"overlay\",\"size\":10,\"solidity\":0.2}},\"type\":\"histogram\"}],\"scattergl\":[{\"type\":\"scattergl\",\"marker\":{\"colorbar\":{\"outlinewidth\":0,\"ticks\":\"\"}}}],\"scatter3d\":[{\"type\":\"scatter3d\",\"line\":{\"colorbar\":{\"outlinewidth\":0,\"ticks\":\"\"}},\"marker\":{\"colorbar\":{\"outlinewidth\":0,\"ticks\":\"\"}}}],\"scattermapbox\":[{\"type\":\"scattermapbox\",\"marker\":{\"colorbar\":{\"outlinewidth\":0,\"ticks\":\"\"}}}],\"scatterternary\":[{\"type\":\"scatterternary\",\"marker\":{\"colorbar\":{\"outlinewidth\":0,\"ticks\":\"\"}}}],\"scattercarpet\":[{\"type\":\"scattercarpet\",\"marker\":{\"colorbar\":{\"outlinewidth\":0,\"ticks\":\"\"}}}],\"carpet\":[{\"aaxis\":{\"endlinecolor\":\"#2a3f5f\",\"gridcolor\":\"white\",\"linecolor\":\"white\",\"minorgridcolor\":\"white\",\"startlinecolor\":\"#2a3f5f\"},\"baxis\":{\"endlinecolor\":\"#2a3f5f\",\"gridcolor\":\"white\",\"linecolor\":\"white\",\"minorgridcolor\":\"white\",\"startlinecolor\":\"#2a3f5f\"},\"type\":\"carpet\"}],\"table\":[{\"cells\":{\"fill\":{\"color\":\"#EBF0F8\"},\"line\":{\"color\":\"white\"}},\"header\":{\"fill\":{\"color\":\"#C8D4E3\"},\"line\":{\"color\":\"white\"}},\"type\":\"table\"}],\"barpolar\":[{\"marker\":{\"line\":{\"color\":\"#E5ECF6\",\"width\":0.5},\"pattern\":{\"fillmode\":\"overlay\",\"size\":10,\"solidity\":0.2}},\"type\":\"barpolar\"}],\"pie\":[{\"automargin\":true,\"type\":\"pie\"}]},\"layout\":{\"autotypenumbers\":\"strict\",\"colorway\":[\"#636efa\",\"#EF553B\",\"#00cc96\",\"#ab63fa\",\"#FFA15A\",\"#19d3f3\",\"#FF6692\",\"#B6E880\",\"#FF97FF\",\"#FECB52\"],\"font\":{\"color\":\"#2a3f5f\"},\"hovermode\":\"closest\",\"hoverlabel\":{\"align\":\"left\"},\"paper_bgcolor\":\"white\",\"plot_bgcolor\":\"#E5ECF6\",\"polar\":{\"bgcolor\":\"#E5ECF6\",\"angularaxis\":{\"gridcolor\":\"white\",\"linecolor\":\"white\",\"ticks\":\"\"},\"radialaxis\":{\"gridcolor\":\"white\",\"linecolor\":\"white\",\"ticks\":\"\"}},\"ternary\":{\"bgcolor\":\"#E5ECF6\",\"aaxis\":{\"gridcolor\":\"white\",\"linecolor\":\"white\",\"ticks\":\"\"},\"baxis\":{\"gridcolor\":\"white\",\"linecolor\":\"white\",\"ticks\":\"\"},\"caxis\":{\"gridcolor\":\"white\",\"linecolor\":\"white\",\"ticks\":\"\"}},\"coloraxis\":{\"colorbar\":{\"outlinewidth\":0,\"ticks\":\"\"}},\"colorscale\":{\"sequential\":[[0.0,\"#0d0887\"],[0.1111111111111111,\"#46039f\"],[0.2222222222222222,\"#7201a8\"],[0.3333333333333333,\"#9c179e\"],[0.4444444444444444,\"#bd3786\"],[0.5555555555555556,\"#d8576b\"],[0.6666666666666666,\"#ed7953\"],[0.7777777777777778,\"#fb9f3a\"],[0.8888888888888888,\"#fdca26\"],[1.0,\"#f0f921\"]],\"sequentialminus\":[[0.0,\"#0d0887\"],[0.1111111111111111,\"#46039f\"],[0.2222222222222222,\"#7201a8\"],[0.3333333333333333,\"#9c179e\"],[0.4444444444444444,\"#bd3786\"],[0.5555555555555556,\"#d8576b\"],[0.6666666666666666,\"#ed7953\"],[0.7777777777777778,\"#fb9f3a\"],[0.8888888888888888,\"#fdca26\"],[1.0,\"#f0f921\"]],\"diverging\":[[0,\"#8e0152\"],[0.1,\"#c51b7d\"],[0.2,\"#de77ae\"],[0.3,\"#f1b6da\"],[0.4,\"#fde0ef\"],[0.5,\"#f7f7f7\"],[0.6,\"#e6f5d0\"],[0.7,\"#b8e186\"],[0.8,\"#7fbc41\"],[0.9,\"#4d9221\"],[1,\"#276419\"]]},\"xaxis\":{\"gridcolor\":\"white\",\"linecolor\":\"white\",\"ticks\":\"\",\"title\":{\"standoff\":15},\"zerolinecolor\":\"white\",\"automargin\":true,\"zerolinewidth\":2},\"yaxis\":{\"gridcolor\":\"white\",\"linecolor\":\"white\",\"ticks\":\"\",\"title\":{\"standoff\":15},\"zerolinecolor\":\"white\",\"automargin\":true,\"zerolinewidth\":2},\"scene\":{\"xaxis\":{\"backgroundcolor\":\"#E5ECF6\",\"gridcolor\":\"white\",\"linecolor\":\"white\",\"showbackground\":true,\"ticks\":\"\",\"zerolinecolor\":\"white\",\"gridwidth\":2},\"yaxis\":{\"backgroundcolor\":\"#E5ECF6\",\"gridcolor\":\"white\",\"linecolor\":\"white\",\"showbackground\":true,\"ticks\":\"\",\"zerolinecolor\":\"white\",\"gridwidth\":2},\"zaxis\":{\"backgroundcolor\":\"#E5ECF6\",\"gridcolor\":\"white\",\"linecolor\":\"white\",\"showbackground\":true,\"ticks\":\"\",\"zerolinecolor\":\"white\",\"gridwidth\":2}},\"shapedefaults\":{\"line\":{\"color\":\"#2a3f5f\"}},\"annotationdefaults\":{\"arrowcolor\":\"#2a3f5f\",\"arrowhead\":0,\"arrowwidth\":1},\"geo\":{\"bgcolor\":\"white\",\"landcolor\":\"#E5ECF6\",\"subunitcolor\":\"white\",\"showland\":true,\"showlakes\":true,\"lakecolor\":\"white\"},\"title\":{\"x\":0.05},\"mapbox\":{\"style\":\"light\"}}},\"xaxis\":{\"anchor\":\"y\",\"domain\":[0.0,1.0],\"title\":{\"text\":\"Average Total Delay (minutes)\"}},\"yaxis\":{\"anchor\":\"x\",\"domain\":[0.0,1.0],\"title\":{\"text\":\"Airport\"},\"categoryorder\":\"total descending\"},\"coloraxis\":{\"colorbar\":{\"title\":{\"text\":\"Average Total Delay (minutes)\"}},\"colorscale\":[[0.0,\"rgb(247,251,255)\"],[0.125,\"rgb(222,235,247)\"],[0.25,\"rgb(198,219,239)\"],[0.375,\"rgb(158,202,225)\"],[0.5,\"rgb(107,174,214)\"],[0.625,\"rgb(66,146,198)\"],[0.75,\"rgb(33,113,181)\"],[0.875,\"rgb(8,81,156)\"],[1.0,\"rgb(8,48,107)\"]]},\"legend\":{\"tracegroupgap\":0},\"title\":{\"text\":\"Top 20 Airports with Delays Nearest to 0 Minutes\"},\"barmode\":\"relative\",\"font\":{\"size\":11},\"height\":600},                        {\"responsive\": true}                    )                };                            </script>        </div>\n",
       "</body>\n",
       "</html>"
      ]
     },
     "metadata": {},
     "output_type": "display_data"
    }
   ],
   "source": [
    "from pyspark.sql.functions import col, avg, round, count, coalesce, abs, lit, sum\n",
    "\n",
    "# Calculate average departure and arrival delays for each airport and round to 2 decimal places\n",
    "avg_dep_delays = flight_data.groupBy(\"ORIGIN\").agg(\n",
    "    round(avg(col(\"DEP_DELAY\")), 2).alias(\"avg_dep_delay\")\n",
    ")\n",
    "\n",
    "avg_arr_delays = flight_data.groupBy(\"DEST\").agg(\n",
    "    round(avg(col(\"ARR_DELAY\")), 2).alias(\"avg_arr_delay\")\n",
    ")\n",
    "\n",
    "# Join with airport data to get airport names for departure and arrival delays\n",
    "avg_dep_delays = avg_dep_delays.join(airports_data, avg_dep_delays.ORIGIN == airports_data.iata, \"left\").select(\n",
    "    col(\"iata\").alias(\"airport_iata\"),\"airport\",\"city\",\"state\",\"country\",\"avg_dep_delay\"\n",
    ")\n",
    "\n",
    "avg_arr_delays = avg_arr_delays.join(airports_data, avg_arr_delays.DEST == airports_data.iata, \"left\").select(\n",
    "    col(\"iata\").alias(\"airport_iata\"),\n",
    "    \"avg_arr_delay\"\n",
    ")\n",
    "\n",
    "# Join avg_dep_delays with avg_arr_delays on airport_iata\n",
    "avg_delays_combined = avg_dep_delays.join(\n",
    "    avg_arr_delays,\n",
    "    \"airport_iata\",\n",
    "    \"inner\"\n",
    ")\n",
    "\n",
    "# Calculate total delay by adding departure delay and arrival delay and round to 2 decimal places\n",
    "avg_delays_combined = avg_delays_combined.withColumn(\n",
    "    \"total_delay\",\n",
    "    round(col(\"avg_dep_delay\") + col(\"avg_arr_delay\"), 2)\n",
    ")\n",
    "\n",
    "# Calculate the number of departing and arriving flights for each airport\n",
    "flight_counts = flight_data.groupBy(\"ORIGIN\").agg(count(\"*\").alias(\"num_departing_flights\")).union(\n",
    "    flight_data.groupBy(\"DEST\").agg(count(\"*\").alias(\"num_arriving_flights\"))\n",
    ").groupBy(\"ORIGIN\").agg(sum(\"num_departing_flights\").alias(\"total_flights\"))\n",
    "\n",
    "# Join the total flights count with avg_delays_combined DataFrame\n",
    "avg_delays_combined = avg_delays_combined.join(\n",
    "    flight_counts,\n",
    "    avg_delays_combined.airport_iata == flight_counts.ORIGIN,\n",
    "    \"left\"\n",
    ").select(\"airport_iata\", \"airport\", \"city\", \"state\", \"avg_dep_delay\", \"avg_arr_delay\", \"total_delay\", \"total_flights\")\n",
    "\n",
    "# Show the DataFrame with combined delays\n",
    "avg_delays_combined=avg_delays_combined.orderBy(\"total_delay\")\n",
    "avg_delays_combined.show()\n",
    "\n",
    "import plotly.express as px\n",
    "import pandas as pd\n",
    "\n",
    "# Convert Spark DataFrame to Pandas DataFrame\n",
    "avg_delays_combined_pd = avg_delays_combined.toPandas()\n",
    "\n",
    "# Create a bar chart\n",
    "fig = px.bar(\n",
    "    avg_delays_combined_pd,\n",
    "    x='airport',\n",
    "    y='total_delay',\n",
    "    title='Overall Delay of All Airports',\n",
    "    labels={'airport': 'Airport', 'total_delay': 'Total Delay (minutes)'},\n",
    "    hover_data=['avg_dep_delay', 'avg_arr_delay', 'total_flights']\n",
    ")\n",
    "\n",
    "# Update x-axis to remove tick labels but keep the axis label\n",
    "fig.update_layout(\n",
    "    xaxis=dict(\n",
    "        tickvals=[],\n",
    "        title='Airport'\n",
    "    )\n",
    ")\n",
    "\n",
    "# Show the plot\n",
    "fig.show()\n",
    "\n",
    "# Calculate the average total flights per airport\n",
    "average_total_flights = avg_delays_combined.select(avg(col(\"total_flights\"))).first()[0]\n",
    "\n",
    "# Filter airports with both avg_arr_delay and avg_dep_delay less than 15 and total flights greater than the average total flights\n",
    "filtered_avg_delays = avg_delays_combined.filter(\n",
    "    (abs(col(\"avg_arr_delay\")) < 15) & (abs(col(\"avg_dep_delay\")) < 15) & (col(\"total_flights\") > average_total_flights)\n",
    ")\n",
    "\n",
    "\n",
    "# Order by the total delay\n",
    "filtered_avg_delays = filtered_avg_delays.orderBy(abs(col(\"total_delay\")))\n",
    "filtered_avg_delays.cache()\n",
    "\n",
    "# Select the top 20\n",
    "top_20_airports = filtered_avg_delays.limit(20)\n",
    "\n",
    "# Show the top 20 airports with delays closest to 0\n",
    "top_20_airports.show()\n",
    "\n",
    "# Convert to Pandas for visualization (if needed)\n",
    "top_20_airports_pd = top_20_airports.toPandas()\n",
    "\n",
    "\n",
    "import plotly.express as px\n",
    "\n",
    "# Create the horizontal bar chart using Plotly\n",
    "fig = px.bar(\n",
    "    top_20_airports_pd,\n",
    "    x='total_delay',\n",
    "    y='airport',\n",
    "    orientation='h',\n",
    "    title='Top 20 Airports with Delays Nearest to 0 Minutes',\n",
    "    labels={'total_delay': 'Average Total Delay (minutes)', 'airport': 'Airport'},\n",
    "    color='total_delay',\n",
    "    color_continuous_scale='blues'  # Change color scale to 'blues'\n",
    ")\n",
    "\n",
    "# Update layout for better readability\n",
    "fig.update_layout(\n",
    "    xaxis_title='Average Total Delay (minutes)',\n",
    "    yaxis_title='Airport',\n",
    "    yaxis=dict(categoryorder='total descending'),\n",
    "    height=600,  # Adjust the height of the figure to accommodate all labels\n",
    "    font=dict(size=11)  # Adjust font size for better readability\n",
    ")\n",
    "\n",
    "# Show the plot\n",
    "fig.show()"
   ]
  },
  {
   "cell_type": "code",
   "execution_count": 0,
   "metadata": {
    "application/vnd.databricks.v1+cell": {
     "cellMetadata": {
      "byteLimit": 2048000,
      "rowLimit": 10000
     },
     "inputWidgets": {},
     "nuid": "9ebdc479-a506-49c5-961e-7c05ef541cd5",
     "showTitle": true,
     "title": "On-time performance of airports"
    }
   },
   "outputs": [
    {
     "output_type": "stream",
     "name": "stdout",
     "output_type": "stream",
     "text": [
      "+----+--------------------+--------------+-----+---------------+---------------+--------------+----------------+---------------+\n|iata|             airport|          city|state|on_time_arr_pct|on_time_dep_pct|total_arrivals|total_departures|avg_on_time_pct|\n+----+--------------------+--------------+-----+---------------+---------------+--------------+----------------+---------------+\n| HNL|Honolulu Internat...|      Honolulu|   HI|          82.91|          89.49|         11562|           11562|           86.2|\n| ATL|William B Hartsfi...|       Atlanta|   GA|          86.77|          85.06|         92585|           92652|         85.915|\n| OGG|             Kahului|       Kahului|   HI|          84.69|          86.96|          6139|            6128|         85.825|\n| PHL|   Philadelphia Intl|  Philadelphia|   PA|          85.41|          86.14|         26525|           26553|         85.775|\n| IAD|Washington Dulles...|     Chantilly|   VA|          84.53|          86.19|         15234|           15261|          85.36|\n| PDX|       Portland Intl|      Portland|   OR|          83.31|          87.34|         13729|           13722|         85.325|\n| CHS|Charleston AFB/In...|    Charleston|   SC|          82.58|          86.54|          5242|            5237|          84.56|\n| SAT|San Antonio Inter...|   San Antonio|   TX|          82.02|          86.82|          9639|            9631|          84.42|\n| CLT|Charlotte/Douglas...|     Charlotte|   NC|          84.95|          83.71|         55464|           55576|          84.33|\n| JAX|Jacksonville Inte...|  Jacksonville|   FL|          82.37|           86.2|          8085|            8063|         84.285|\n| SLC| Salt Lake City Intl|Salt Lake City|   UT|          83.58|          84.91|         27513|           27520|         84.245|\n| SMF|Sacramento Intern...|    Sacramento|   CA|          83.04|          85.36|         11355|           11348|           84.2|\n| SJC|San Jose Internat...|      San Jose|   CA|          83.11|          85.23|         13964|           14004|          84.17|\n| BWI|Baltimore-Washing...|     Baltimore|   MD|          86.03|          82.19|         22364|           22392|          84.11|\n| DTW|Detroit Metropoli...|       Detroit|   MI|          84.56|          83.58|         36056|           36058|          84.07|\n| PIT|Pittsburgh Intern...|    Pittsburgh|   PA|          82.58|          85.33|         11588|           11559|         83.955|\n| BDL|Bradley Internati...| Windsor Locks|   CT|          82.52|          85.32|          6958|            6942|          83.92|\n| AUS|Austin-Bergstrom ...|        Austin|   TX|          82.72|          84.79|         14967|           14946|         83.755|\n| MEM|Memphis Internati...|       Memphis|   TN|          81.12|          86.26|          5735|            5737|          83.69|\n| IND|Indianapolis Inte...|  Indianapolis|   IN|          82.25|          84.89|         11494|           11503|          83.57|\n+----+--------------------+--------------+-----+---------------+---------------+--------------+----------------+---------------+\nonly showing top 20 rows\n\n"
     ]
    },
    {
     "output_type": "display_data",
     "data": {
      "image/png": "[encoded data removed]",
      "text/plain": [
       "<Figure size 1200x600 with 1 Axes>"
      ]
     },
     "metadata": {},
     "output_type": "display_data"
    }
   ],
   "source": [
    "from pyspark.sql.functions import round, count, col, avg, desc\n",
    "\n",
    "\n",
    "# Calculate the percentage of on-time arrivals (ARR_DELAY <= 15 minutes) for each destination airport\n",
    "on_time_arrivals = (\n",
    "    flight_data.filter(col(\"ARR_DELAY\") <= 15)\n",
    "    .groupBy(\"DEST\")\n",
    "    .agg(count(\"*\").alias(\"on_time_arrivals\"))\n",
    ")\n",
    "\n",
    "total_arrivals = flight_data.groupBy(\"DEST\").agg(count(\"*\").alias(\"total_arrivals\"))\n",
    "\n",
    "arrival_stats = (\n",
    "    on_time_arrivals.join(total_arrivals, on=\"DEST\", how=\"inner\")\n",
    "    .withColumn(\"on_time_arr_pct\", round(col(\"on_time_arrivals\") / col(\"total_arrivals\") * 100, 2))\n",
    ")\n",
    "\n",
    "# Calculate the percentage of on-time departures (DEP_DELAY <= 15 minutes) for each origin airport\n",
    "on_time_departures = (\n",
    "    flight_data.filter(col(\"DEP_DELAY\") <= 15)\n",
    "    .groupBy(\"ORIGIN\")\n",
    "    .agg(count(\"*\").alias(\"on_time_departures\"))\n",
    ")\n",
    "\n",
    "total_departures = flight_data.groupBy(\"ORIGIN\").agg(count(\"*\").alias(\"total_departures\"))\n",
    "\n",
    "departure_stats = (\n",
    "    on_time_departures.join(total_departures, on=\"ORIGIN\", how=\"inner\")\n",
    "    .withColumn(\"on_time_dep_pct\", round(col(\"on_time_departures\") / col(\"total_departures\") * 100, 2))\n",
    ")\n",
    "\n",
    "# Combine arrival and departure statistics\n",
    "airport_stats = (\n",
    "    arrival_stats.join(departure_stats, arrival_stats[\"DEST\"] == departure_stats[\"ORIGIN\"], \"inner\")\n",
    "    .select(\n",
    "        arrival_stats[\"DEST\"].alias(\"iata\"),\n",
    "        \"on_time_arr_pct\",\n",
    "        \"on_time_dep_pct\",\n",
    "        \"total_arrivals\",\n",
    "        \"total_departures\"\n",
    "    )\n",
    ")\n",
    "\n",
    "# Optionally, join with airport data to include airport names\n",
    "airport_stats = airport_stats.join(\n",
    "    airports_data, airport_stats.iata == airports_data.iata, \"left\"\n",
    ").select(\n",
    "    airport_stats[\"iata\"].alias(\"iata\"),\n",
    "    \"airport\",\n",
    "    \"city\",\n",
    "    \"state\",\n",
    "    \"on_time_arr_pct\",\n",
    "    \"on_time_dep_pct\",\n",
    "    \"total_arrivals\",\n",
    "    \"total_departures\"\n",
    ")\n",
    "\n",
    "# Calculate the average total number of flights (arrivals + departures) across all airports\n",
    "avg_total_flights = airport_stats.select(avg(col(\"total_arrivals\") + col(\"total_departures\"))).first()[0]\n",
    "\n",
    "# Filter the DataFrame to include only records with total flights (arrivals + departures) above the average\n",
    "airport_stats = airport_stats.filter((col(\"total_arrivals\") + col(\"total_departures\")) > avg_total_flights)\n",
    "\n",
    "# Order by on-time arrival percentage and on-time departure percentage in descending order\n",
    "airport_stats=airport_stats.withColumn(\"avg_on_time_pct\",round((col(\"on_time_arr_pct\") + col(\"on_time_dep_pct\")),2)/2)\n",
    "\n",
    "airport_stats = airport_stats.orderBy(col(\"avg_on_time_pct\").desc())\n",
    "\n",
    "# Display the result\n",
    "airport_stats.show()\n",
    "airport_stats.cache()\n",
    "\n",
    "# Convert the DataFrame to a Pandas DataFrame\n",
    "airport_stats_pandas = airport_stats.toPandas()\n",
    "\n",
    "import pandas as pd\n",
    "import matplotlib.pyplot as plt\n",
    "import seaborn as sns\n",
    "\n",
    "\n",
    "# Filter the top 20 airports by on_time_pct\n",
    "top_20_airports = airport_stats_pandas.nlargest(20, 'avg_on_time_pct')\n",
    "\n",
    "# Set the figure size\n",
    "plt.figure(figsize=(12, 6))\n",
    "\n",
    "# Create the bar plot using seaborn\n",
    "sns.barplot(\n",
    "    x='avg_on_time_pct', \n",
    "    y='airport', \n",
    "    data=top_20_airports, \n",
    "    palette='viridis'\n",
    ")\n",
    "\n",
    "# Add titles and labels\n",
    "plt.title('Top 20 Airports by On-Time Performance')\n",
    "plt.xlabel('On-Time Percentage (%)')\n",
    "plt.ylabel('Airport')\n",
    "\n",
    "# Display the percentage values on the bars\n",
    "for index, value in enumerate(top_20_airports['avg_on_time_pct']):\n",
    "    plt.text(value, index, f'{value:.2f}%', va='center', ha='left')\n",
    "\n",
    "# Enhance the aesthetics\n",
    "sns.despine()\n",
    "plt.xlim(0, 100)  # Assuming percentages are between 0 and 100\n",
    "\n",
    "# Show the plot\n",
    "plt.tight_layout()\n",
    "plt.show()"
   ]
  },
  {
   "cell_type": "code",
   "execution_count": 0,
   "metadata": {
    "application/vnd.databricks.v1+cell": {
     "cellMetadata": {
      "byteLimit": 2048000,
      "rowLimit": 10000
     },
     "inputWidgets": {},
     "nuid": "745c4f92-79ab-4881-968f-3b7db097be20",
     "showTitle": true,
     "title": "NAS delays of airports"
    }
   },
   "outputs": [
    {
     "output_type": "display_data",
     "data": {
      "text/html": [
       "<style scoped>\n",
       "  .table-result-container {\n",
       "    max-height: 300px;\n",
       "    overflow: auto;\n",
       "  }\n",
       "  table, th, td {\n",
       "    border: 1px solid black;\n",
       "    border-collapse: collapse;\n",
       "  }\n",
       "  th, td {\n",
       "    padding: 5px;\n",
       "  }\n",
       "  th {\n",
       "    text-align: left;\n",
       "  }\n",
       "</style><div class='table-result-container'><table class='table-result'><thead style='background-color: white'><tr><th>iata</th><th>airport</th><th>city</th><th>SECURITY_DELAY_RATIO</th><th>NAS_DELAY_RATIO</th><th>TOTAL_FLIGHTS</th></tr></thead><tbody><tr><td>BWI</td><td>Baltimore-Washington International</td><td>Baltimore</td><td>8.0E-4</td><td>0.057</td><td>22364</td></tr><tr><td>HNL</td><td>Honolulu International</td><td>Honolulu</td><td>0.0011</td><td>0.064</td><td>11562</td></tr><tr><td>DAL</td><td>Dallas Love </td><td>Dallas</td><td>6.0E-4</td><td>0.065</td><td>17426</td></tr><tr><td>BDL</td><td>Bradley International</td><td>Windsor Locks</td><td>0.0011</td><td>0.068</td><td>6958</td></tr><tr><td>SMF</td><td>Sacramento International</td><td>Sacramento</td><td>0.0011</td><td>0.07</td><td>11355</td></tr><tr><td>IAD</td><td>Washington Dulles International</td><td>Chantilly</td><td>4.0E-4</td><td>0.072</td><td>15234</td></tr><tr><td>PHL</td><td>Philadelphia Intl</td><td>Philadelphia</td><td>8.0E-4</td><td>0.073</td><td>26525</td></tr><tr><td>OGG</td><td>Kahului</td><td>Kahului</td><td>8.0E-4</td><td>0.073</td><td>6139</td></tr><tr><td>ATL</td><td>William B Hartsfield-Atlanta Intl</td><td>Atlanta</td><td>4.0E-4</td><td>0.076</td><td>92585</td></tr><tr><td>DTW</td><td>Detroit Metropolitan-Wayne County</td><td>Detroit</td><td>5.0E-4</td><td>0.077</td><td>36056</td></tr><tr><td>CLT</td><td>Charlotte/Douglas International</td><td>Charlotte</td><td>5.0E-4</td><td>0.079</td><td>55464</td></tr><tr><td>SAT</td><td>San Antonio International</td><td>San Antonio</td><td>7.0E-4</td><td>0.08</td><td>9639</td></tr><tr><td>HOU</td><td>William P Hobby</td><td>Houston</td><td>4.0E-4</td><td>0.081</td><td>14112</td></tr><tr><td>OAK</td><td>Metropolitan Oakland International</td><td>Oakland</td><td>0.0013</td><td>0.082</td><td>11842</td></tr><tr><td>MDW</td><td>Chicago Midway</td><td>Chicago</td><td>0.001</td><td>0.083</td><td>17565</td></tr><tr><td>STL</td><td>Lambert-St Louis International</td><td>St Louis</td><td>7.0E-4</td><td>0.084</td><td>15451</td></tr><tr><td>MKE</td><td>General Mitchell International</td><td>Milwaukee</td><td>0.001</td><td>0.084</td><td>7280</td></tr><tr><td>PIT</td><td>Pittsburgh International</td><td>Pittsburgh</td><td>8.0E-4</td><td>0.084</td><td>11588</td></tr><tr><td>SJC</td><td>San Jose International</td><td>San Jose</td><td>9.0E-4</td><td>0.085</td><td>13964</td></tr><tr><td>AUS</td><td>Austin-Bergstrom International</td><td>Austin</td><td>4.0E-4</td><td>0.085</td><td>14967</td></tr><tr><td>CHS</td><td>Charleston AFB/International</td><td>Charleston</td><td>6.0E-4</td><td>0.085</td><td>5242</td></tr><tr><td>ABQ</td><td>Albuquerque International</td><td>Albuquerque</td><td>4.0E-4</td><td>0.085</td><td>5113</td></tr><tr><td>PDX</td><td>Portland Intl</td><td>Portland</td><td>0.0012</td><td>0.086</td><td>13729</td></tr><tr><td>JAX</td><td>Jacksonville International</td><td>Jacksonville</td><td>7.0E-4</td><td>0.086</td><td>8085</td></tr><tr><td>BNA</td><td>Nashville International</td><td>Nashville</td><td>4.0E-4</td><td>0.087</td><td>18366</td></tr><tr><td>BUR</td><td>Burbank-Glendale-Pasadena</td><td>Burbank</td><td>0.001</td><td>0.088</td><td>6695</td></tr><tr><td>IND</td><td>Indianapolis International</td><td>Indianapolis</td><td>4.0E-4</td><td>0.089</td><td>11494</td></tr><tr><td>CMH</td><td>Port Columbus Intl</td><td>Columbus</td><td>6.0E-4</td><td>0.09</td><td>10860</td></tr><tr><td>BUF</td><td>Buffalo Niagara Intl</td><td>Buffalo</td><td>9.0E-4</td><td>0.091</td><td>5513</td></tr><tr><td>SDF</td><td>Louisville International-Standiford </td><td>Louisville</td><td>0.0012</td><td>0.091</td><td>5179</td></tr><tr><td>ORF</td><td>Norfolk International</td><td>Norfolk</td><td>0.0011</td><td>0.092</td><td>5562</td></tr><tr><td>MSY</td><td>New Orleans International </td><td>New Orleans</td><td>6.0E-4</td><td>0.093</td><td>13907</td></tr><tr><td>MCI</td><td>Kansas City International</td><td>Kansas City</td><td>4.0E-4</td><td>0.094</td><td>12755</td></tr><tr><td>MIA</td><td>Miami International</td><td>Miami</td><td>8.0E-4</td><td>0.095</td><td>22933</td></tr><tr><td>MEM</td><td>Memphis International</td><td>Memphis</td><td>3.0E-4</td><td>0.095</td><td>5735</td></tr><tr><td>JFK</td><td>John F Kennedy Intl</td><td>New York</td><td>0.0014</td><td>0.095</td><td>30766</td></tr><tr><td>TPA</td><td>Tampa International </td><td>Tampa</td><td>6.0E-4</td><td>0.096</td><td>19818</td></tr><tr><td>RDU</td><td>Raleigh-Durham International</td><td>Raleigh</td><td>9.0E-4</td><td>0.096</td><td>14097</td></tr><tr><td>RIC</td><td>Richmond International</td><td>Richmond</td><td>7.0E-4</td><td>0.097</td><td>5762</td></tr><tr><td>SLC</td><td>Salt Lake City Intl</td><td>Salt Lake City</td><td>5.0E-4</td><td>0.098</td><td>27513</td></tr><tr><td>CVG</td><td>Cincinnati Northern Kentucky Intl</td><td>Covington</td><td>5.0E-4</td><td>0.099</td><td>11074</td></tr><tr><td>CLE</td><td>Cleveland-Hopkins Intl</td><td>Cleveland</td><td>4.0E-4</td><td>0.099</td><td>11395</td></tr><tr><td>MSP</td><td>Minneapolis-St Paul Intl</td><td>Minneapolis</td><td>4.0E-4</td><td>0.099</td><td>36424</td></tr><tr><td>DCA</td><td>Ronald Reagan Washington National</td><td>Arlington</td><td>7.0E-4</td><td>0.102</td><td>33670</td></tr><tr><td>MCO</td><td>Orlando International</td><td>Orlando</td><td>8.0E-4</td><td>0.102</td><td>35757</td></tr><tr><td>OMA</td><td>Eppley Airfield</td><td>Omaha</td><td>2.0E-4</td><td>0.103</td><td>5869</td></tr><tr><td>SNA</td><td>John Wayne /Orange Co</td><td>Santa Ana</td><td>5.0E-4</td><td>0.104</td><td>9843</td></tr><tr><td>DEN</td><td>Denver Intl</td><td>Denver</td><td>4.0E-4</td><td>0.104</td><td>53663</td></tr><tr><td>OKC</td><td>Will Rogers World</td><td>Oklahoma City</td><td>2.0E-4</td><td>0.105</td><td>5402</td></tr><tr><td>PHX</td><td>Phoenix Sky Harbor International</td><td>Phoenix</td><td>8.0E-4</td><td>0.108</td><td>43693</td></tr><tr><td>TUS</td><td>Tucson International</td><td>Tucson</td><td>0.0014</td><td>0.109</td><td>5182</td></tr><tr><td>IAH</td><td>George Bush Intercontinental</td><td>Houston</td><td>3.0E-4</td><td>0.11</td><td>43249</td></tr><tr><td>RSW</td><td>Southwest Florida International</td><td>Ft. Myers</td><td>2.0E-4</td><td>0.11</td><td>11903</td></tr><tr><td>FLL</td><td>Fort Lauderdale-Hollywood Int'l</td><td>Ft. Lauderdale</td><td>9.0E-4</td><td>0.112</td><td>25799</td></tr><tr><td>SJU</td><td>Luis Munoz Marin International</td><td>San Juan</td><td>0.002</td><td>0.115</td><td>6588</td></tr><tr><td>SEA</td><td>Seattle-Tacoma Intl</td><td>Seattle</td><td>6.0E-4</td><td>0.115</td><td>30167</td></tr><tr><td>SAN</td><td>San Diego International-Lindbergh </td><td>San Diego</td><td>7.0E-4</td><td>0.124</td><td>21608</td></tr><tr><td>LAS</td><td>McCarran International</td><td>Las Vegas</td><td>7.0E-4</td><td>0.126</td><td>38181</td></tr><tr><td>PBI</td><td>Palm Beach International</td><td>West Palm Beach</td><td>8.0E-4</td><td>0.128</td><td>7561</td></tr><tr><td>BOS</td><td>Gen Edw L Logan Intl</td><td>Boston</td><td>5.0E-4</td><td>0.133</td><td>33347</td></tr><tr><td>DFW</td><td>Dallas-Fort Worth International</td><td>Dallas-Fort Worth</td><td>0.001</td><td>0.133</td><td>67275</td></tr><tr><td>LAX</td><td>Los Angeles International</td><td>Los Angeles</td><td>8.0E-4</td><td>0.139</td><td>52068</td></tr><tr><td>ORD</td><td>Chicago O'Hare International</td><td>Chicago</td><td>4.0E-4</td><td>0.158</td><td>73094</td></tr><tr><td>LGA</td><td>LaGuardia</td><td>New York</td><td>5.0E-4</td><td>0.196</td><td>40197</td></tr><tr><td>EWR</td><td>Newark Intl</td><td>Newark</td><td>3.0E-4</td><td>0.216</td><td>31352</td></tr><tr><td>SFO</td><td>San Francisco International</td><td>San Francisco</td><td>4.0E-4</td><td>0.238</td><td>38824</td></tr></tbody></table></div>"
      ]
     },
     "metadata": {
      "application/vnd.databricks.v1+output": {
       "addedWidgets": {},
       "aggData": [],
       "aggError": "",
       "aggOverflow": false,
       "aggSchema": [],
       "aggSeriesLimitReached": false,
       "aggType": "",
       "arguments": {},
       "columnCustomDisplayInfos": {},
       "data": [
        [
         "BWI",
         "Baltimore-Washington International",
         "Baltimore",
         8.0E-4,
         0.057,
         22364
        ],
        [
         "HNL",
         "Honolulu International",
         "Honolulu",
         0.0011,
         0.064,
         11562
        ],
        [
         "DAL",
         "Dallas Love ",
         "Dallas",
         6.0E-4,
         0.065,
         17426
        ],
        [
         "BDL",
         "Bradley International",
         "Windsor Locks",
         0.0011,
         0.068,
         6958
        ],
        [
         "SMF",
         "Sacramento International",
         "Sacramento",
         0.0011,
         0.07,
         11355
        ],
        [
         "IAD",
         "Washington Dulles International",
         "Chantilly",
         4.0E-4,
         0.072,
         15234
        ],
        [
         "PHL",
         "Philadelphia Intl",
         "Philadelphia",
         8.0E-4,
         0.073,
         26525
        ],
        [
         "OGG",
         "Kahului",
         "Kahului",
         8.0E-4,
         0.073,
         6139
        ],
        [
         "ATL",
         "William B Hartsfield-Atlanta Intl",
         "Atlanta",
         4.0E-4,
         0.076,
         92585
        ],
        [
         "DTW",
         "Detroit Metropolitan-Wayne County",
         "Detroit",
         5.0E-4,
         0.077,
         36056
        ],
        [
         "CLT",
         "Charlotte/Douglas International",
         "Charlotte",
         5.0E-4,
         0.079,
         55464
        ],
        [
         "SAT",
         "San Antonio International",
         "San Antonio",
         7.0E-4,
         0.08,
         9639
        ],
        [
         "HOU",
         "William P Hobby",
         "Houston",
         4.0E-4,
         0.081,
         14112
        ],
        [
         "OAK",
         "Metropolitan Oakland International",
         "Oakland",
         0.0013,
         0.082,
         11842
        ],
        [
         "MDW",
         "Chicago Midway",
         "Chicago",
         0.001,
         0.083,
         17565
        ],
        [
         "STL",
         "Lambert-St Louis International",
         "St Louis",
         7.0E-4,
         0.084,
         15451
        ],
        [
         "MKE",
         "General Mitchell International",
         "Milwaukee",
         0.001,
         0.084,
         7280
        ],
        [
         "PIT",
         "Pittsburgh International",
         "Pittsburgh",
         8.0E-4,
         0.084,
         11588
        ],
        [
         "SJC",
         "San Jose International",
         "San Jose",
         9.0E-4,
         0.085,
         13964
        ],
        [
         "AUS",
         "Austin-Bergstrom International",
         "Austin",
         4.0E-4,
         0.085,
         14967
        ],
        [
         "CHS",
         "Charleston AFB/International",
         "Charleston",
         6.0E-4,
         0.085,
         5242
        ],
        [
         "ABQ",
         "Albuquerque International",
         "Albuquerque",
         4.0E-4,
         0.085,
         5113
        ],
        [
         "PDX",
         "Portland Intl",
         "Portland",
         0.0012,
         0.086,
         13729
        ],
        [
         "JAX",
         "Jacksonville International",
         "Jacksonville",
         7.0E-4,
         0.086,
         8085
        ],
        [
         "BNA",
         "Nashville International",
         "Nashville",
         4.0E-4,
         0.087,
         18366
        ],
        [
         "BUR",
         "Burbank-Glendale-Pasadena",
         "Burbank",
         0.001,
         0.088,
         6695
        ],
        [
         "IND",
         "Indianapolis International",
         "Indianapolis",
         4.0E-4,
         0.089,
         11494
        ],
        [
         "CMH",
         "Port Columbus Intl",
         "Columbus",
         6.0E-4,
         0.09,
         10860
        ],
        [
         "BUF",
         "Buffalo Niagara Intl",
         "Buffalo",
         9.0E-4,
         0.091,
         5513
        ],
        [
         "SDF",
         "Louisville International-Standiford ",
         "Louisville",
         0.0012,
         0.091,
         5179
        ],
        [
         "ORF",
         "Norfolk International",
         "Norfolk",
         0.0011,
         0.092,
         5562
        ],
        [
         "MSY",
         "New Orleans International ",
         "New Orleans",
         6.0E-4,
         0.093,
         13907
        ],
        [
         "MCI",
         "Kansas City International",
         "Kansas City",
         4.0E-4,
         0.094,
         12755
        ],
        [
         "MIA",
         "Miami International",
         "Miami",
         8.0E-4,
         0.095,
         22933
        ],
        [
         "MEM",
         "Memphis International",
         "Memphis",
         3.0E-4,
         0.095,
         5735
        ],
        [
         "JFK",
         "John F Kennedy Intl",
         "New York",
         0.0014,
         0.095,
         30766
        ],
        [
         "TPA",
         "Tampa International ",
         "Tampa",
         6.0E-4,
         0.096,
         19818
        ],
        [
         "RDU",
         "Raleigh-Durham International",
         "Raleigh",
         9.0E-4,
         0.096,
         14097
        ],
        [
         "RIC",
         "Richmond International",
         "Richmond",
         7.0E-4,
         0.097,
         5762
        ],
        [
         "SLC",
         "Salt Lake City Intl",
         "Salt Lake City",
         5.0E-4,
         0.098,
         27513
        ],
        [
         "CVG",
         "Cincinnati Northern Kentucky Intl",
         "Covington",
         5.0E-4,
         0.099,
         11074
        ],
        [
         "CLE",
         "Cleveland-Hopkins Intl",
         "Cleveland",
         4.0E-4,
         0.099,
         11395
        ],
        [
         "MSP",
         "Minneapolis-St Paul Intl",
         "Minneapolis",
         4.0E-4,
         0.099,
         36424
        ],
        [
         "DCA",
         "Ronald Reagan Washington National",
         "Arlington",
         7.0E-4,
         0.102,
         33670
        ],
        [
         "MCO",
         "Orlando International",
         "Orlando",
         8.0E-4,
         0.102,
         35757
        ],
        [
         "OMA",
         "Eppley Airfield",
         "Omaha",
         2.0E-4,
         0.103,
         5869
        ],
        [
         "SNA",
         "John Wayne /Orange Co",
         "Santa Ana",
         5.0E-4,
         0.104,
         9843
        ],
        [
         "DEN",
         "Denver Intl",
         "Denver",
         4.0E-4,
         0.104,
         53663
        ],
        [
         "OKC",
         "Will Rogers World",
         "Oklahoma City",
         2.0E-4,
         0.105,
         5402
        ],
        [
         "PHX",
         "Phoenix Sky Harbor International",
         "Phoenix",
         8.0E-4,
         0.108,
         43693
        ],
        [
         "TUS",
         "Tucson International",
         "Tucson",
         0.0014,
         0.109,
         5182
        ],
        [
         "IAH",
         "George Bush Intercontinental",
         "Houston",
         3.0E-4,
         0.11,
         43249
        ],
        [
         "RSW",
         "Southwest Florida International",
         "Ft. Myers",
         2.0E-4,
         0.11,
         11903
        ],
        [
         "FLL",
         "Fort Lauderdale-Hollywood Int'l",
         "Ft. Lauderdale",
         9.0E-4,
         0.112,
         25799
        ],
        [
         "SJU",
         "Luis Munoz Marin International",
         "San Juan",
         0.002,
         0.115,
         6588
        ],
        [
         "SEA",
         "Seattle-Tacoma Intl",
         "Seattle",
         6.0E-4,
         0.115,
         30167
        ],
        [
         "SAN",
         "San Diego International-Lindbergh ",
         "San Diego",
         7.0E-4,
         0.124,
         21608
        ],
        [
         "LAS",
         "McCarran International",
         "Las Vegas",
         7.0E-4,
         0.126,
         38181
        ],
        [
         "PBI",
         "Palm Beach International",
         "West Palm Beach",
         8.0E-4,
         0.128,
         7561
        ],
        [
         "BOS",
         "Gen Edw L Logan Intl",
         "Boston",
         5.0E-4,
         0.133,
         33347
        ],
        [
         "DFW",
         "Dallas-Fort Worth International",
         "Dallas-Fort Worth",
         0.001,
         0.133,
         67275
        ],
        [
         "LAX",
         "Los Angeles International",
         "Los Angeles",
         8.0E-4,
         0.139,
         52068
        ],
        [
         "ORD",
         "Chicago O'Hare International",
         "Chicago",
         4.0E-4,
         0.158,
         73094
        ],
        [
         "LGA",
         "LaGuardia",
         "New York",
         5.0E-4,
         0.196,
         40197
        ],
        [
         "EWR",
         "Newark Intl",
         "Newark",
         3.0E-4,
         0.216,
         31352
        ],
        [
         "SFO",
         "San Francisco International",
         "San Francisco",
         4.0E-4,
         0.238,
         38824
        ]
       ],
       "datasetInfos": [],
       "dbfsResultPath": null,
       "isJsonSchema": true,
       "metadata": {},
       "overflow": false,
       "plotOptions": {
        "customPlotOptions": {},
        "displayType": "table",
        "pivotAggregation": null,
        "pivotColumns": null,
        "xColumns": null,
        "yColumns": null
       },
       "removedWidgets": [],
       "schema": [
        {
         "metadata": "{}",
         "name": "iata",
         "type": "\"string\""
        },
        {
         "metadata": "{}",
         "name": "airport",
         "type": "\"string\""
        },
        {
         "metadata": "{}",
         "name": "city",
         "type": "\"string\""
        },
        {
         "metadata": "{}",
         "name": "SECURITY_DELAY_RATIO",
         "type": "\"double\""
        },
        {
         "metadata": "{}",
         "name": "NAS_DELAY_RATIO",
         "type": "\"double\""
        },
        {
         "metadata": "{}",
         "name": "TOTAL_FLIGHTS",
         "type": "\"long\""
        }
       ],
       "type": "table"
      }
     },
     "output_type": "display_data"
    },
    {
     "output_type": "display_data",
     "data": {
      "text/html": [
       "<html>\n",
       "<head><meta charset=\"utf-8\" /></head>\n",
       "<body>\n",
       "    <div>            <script src=\"https://cdnjs.cloudflare.com/ajax/libs/mathjax/2.7.5/MathJax.js?config=TeX-AMS-MML_SVG\"></script><script type=\"text/javascript\">if (window.MathJax && window.MathJax.Hub && window.MathJax.Hub.Config) {window.MathJax.Hub.Config({SVG: {font: \"STIX-Web\"}});}</script>                <script type=\"text/javascript\">window.PlotlyConfig = {MathJaxConfig: 'local'};</script>\n",
       "        <script src=\"https://cdn.plot.ly/plotly-2.12.1.min.js\"></script>                <div id=\"ee1aa761-bc1d-4c90-8489-cfad002175d0\" class=\"plotly-graph-div\" style=\"height:100%; width:100%;\"></div>            <script type=\"text/javascript\">                                    window.PLOTLYENV=window.PLOTLYENV || {};                                    if (document.getElementById(\"ee1aa761-bc1d-4c90-8489-cfad002175d0\")) {                    Plotly.newPlot(                        \"ee1aa761-bc1d-4c90-8489-cfad002175d0\",                        [{\"alignmentgroup\":\"True\",\"customdata\":[[\"Baltimore-Washington International\"],[\"Honolulu International\"],[\"Dallas Love \"],[\"Bradley International\"],[\"Sacramento International\"],[\"Washington Dulles International\"],[\"Philadelphia Intl\"],[\"Kahului\"],[\"William B Hartsfield-Atlanta Intl\"],[\"Detroit Metropolitan-Wayne County\"],[\"Charlotte/Douglas International\"],[\"San Antonio International\"],[\"William P Hobby\"],[\"Metropolitan Oakland International\"],[\"Chicago Midway\"],[\"Lambert-St Louis International\"],[\"General Mitchell International\"],[\"Pittsburgh International\"],[\"San Jose International\"],[\"Austin-Bergstrom International\"],[\"Charleston AFB/International\"],[\"Albuquerque International\"],[\"Portland Intl\"],[\"Jacksonville International\"],[\"Nashville International\"],[\"Burbank-Glendale-Pasadena\"],[\"Indianapolis International\"],[\"Port Columbus Intl\"],[\"Buffalo Niagara Intl\"],[\"Louisville International-Standiford \"],[\"Norfolk International\"],[\"New Orleans International \"],[\"Kansas City International\"],[\"Miami International\"],[\"Memphis International\"],[\"John F Kennedy Intl\"],[\"Tampa International \"],[\"Raleigh-Durham International\"],[\"Richmond International\"],[\"Salt Lake City Intl\"],[\"Cincinnati Northern Kentucky Intl\"],[\"Cleveland-Hopkins Intl\"],[\"Minneapolis-St Paul Intl\"],[\"Ronald Reagan Washington National\"],[\"Orlando International\"],[\"Eppley Airfield\"],[\"John Wayne /Orange Co\"],[\"Denver Intl\"],[\"Will Rogers World\"],[\"Phoenix Sky Harbor International\"],[\"Tucson International\"],[\"George Bush Intercontinental\"],[\"Southwest Florida International\"],[\"Fort Lauderdale-Hollywood Int'l\"],[\"Luis Munoz Marin International\"],[\"Seattle-Tacoma Intl\"],[\"San Diego International-Lindbergh \"],[\"McCarran International\"],[\"Palm Beach International\"],[\"Gen Edw L Logan Intl\"],[\"Dallas-Fort Worth International\"],[\"Los Angeles International\"],[\"Chicago O'Hare International\"],[\"LaGuardia\"],[\"Newark Intl\"],[\"San Francisco International\"]],\"hovertemplate\":\"NAS Delay Ratio=%{y}<br>airport=%{customdata[0]}<extra></extra>\",\"legendgroup\":\"\",\"marker\":{\"color\":\"blue\",\"pattern\":{\"shape\":\"\"}},\"name\":\"\",\"offsetgroup\":\"\",\"orientation\":\"v\",\"showlegend\":false,\"textposition\":\"auto\",\"x\":[\"BWI\",\"HNL\",\"DAL\",\"BDL\",\"SMF\",\"IAD\",\"PHL\",\"OGG\",\"ATL\",\"DTW\",\"CLT\",\"SAT\",\"HOU\",\"OAK\",\"MDW\",\"STL\",\"MKE\",\"PIT\",\"SJC\",\"AUS\",\"CHS\",\"ABQ\",\"PDX\",\"JAX\",\"BNA\",\"BUR\",\"IND\",\"CMH\",\"BUF\",\"SDF\",\"ORF\",\"MSY\",\"MCI\",\"MIA\",\"MEM\",\"JFK\",\"TPA\",\"RDU\",\"RIC\",\"SLC\",\"CVG\",\"CLE\",\"MSP\",\"DCA\",\"MCO\",\"OMA\",\"SNA\",\"DEN\",\"OKC\",\"PHX\",\"TUS\",\"IAH\",\"RSW\",\"FLL\",\"SJU\",\"SEA\",\"SAN\",\"LAS\",\"PBI\",\"BOS\",\"DFW\",\"LAX\",\"ORD\",\"LGA\",\"EWR\",\"SFO\"],\"xaxis\":\"x\",\"y\":[0.057,0.064,0.065,0.068,0.07,0.072,0.073,0.073,0.076,0.077,0.079,0.08,0.081,0.082,0.083,0.084,0.084,0.084,0.085,0.085,0.085,0.085,0.086,0.086,0.087,0.088,0.089,0.09,0.091,0.091,0.092,0.093,0.094,0.095,0.095,0.095,0.096,0.096,0.097,0.098,0.099,0.099,0.099,0.102,0.102,0.103,0.104,0.104,0.105,0.108,0.109,0.11,0.11,0.112,0.115,0.115,0.124,0.126,0.128,0.133,0.133,0.139,0.158,0.196,0.216,0.238],\"yaxis\":\"y\",\"type\":\"bar\"}],                        {\"template\":{\"data\":{\"histogram2dcontour\":[{\"type\":\"histogram2dcontour\",\"colorbar\":{\"outlinewidth\":0,\"ticks\":\"\"},\"colorscale\":[[0.0,\"#0d0887\"],[0.1111111111111111,\"#46039f\"],[0.2222222222222222,\"#7201a8\"],[0.3333333333333333,\"#9c179e\"],[0.4444444444444444,\"#bd3786\"],[0.5555555555555556,\"#d8576b\"],[0.6666666666666666,\"#ed7953\"],[0.7777777777777778,\"#fb9f3a\"],[0.8888888888888888,\"#fdca26\"],[1.0,\"#f0f921\"]]}],\"choropleth\":[{\"type\":\"choropleth\",\"colorbar\":{\"outlinewidth\":0,\"ticks\":\"\"}}],\"histogram2d\":[{\"type\":\"histogram2d\",\"colorbar\":{\"outlinewidth\":0,\"ticks\":\"\"},\"colorscale\":[[0.0,\"#0d0887\"],[0.1111111111111111,\"#46039f\"],[0.2222222222222222,\"#7201a8\"],[0.3333333333333333,\"#9c179e\"],[0.4444444444444444,\"#bd3786\"],[0.5555555555555556,\"#d8576b\"],[0.6666666666666666,\"#ed7953\"],[0.7777777777777778,\"#fb9f3a\"],[0.8888888888888888,\"#fdca26\"],[1.0,\"#f0f921\"]]}],\"heatmap\":[{\"type\":\"heatmap\",\"colorbar\":{\"outlinewidth\":0,\"ticks\":\"\"},\"colorscale\":[[0.0,\"#0d0887\"],[0.1111111111111111,\"#46039f\"],[0.2222222222222222,\"#7201a8\"],[0.3333333333333333,\"#9c179e\"],[0.4444444444444444,\"#bd3786\"],[0.5555555555555556,\"#d8576b\"],[0.6666666666666666,\"#ed7953\"],[0.7777777777777778,\"#fb9f3a\"],[0.8888888888888888,\"#fdca26\"],[1.0,\"#f0f921\"]]}],\"heatmapgl\":[{\"type\":\"heatmapgl\",\"colorbar\":{\"outlinewidth\":0,\"ticks\":\"\"},\"colorscale\":[[0.0,\"#0d0887\"],[0.1111111111111111,\"#46039f\"],[0.2222222222222222,\"#7201a8\"],[0.3333333333333333,\"#9c179e\"],[0.4444444444444444,\"#bd3786\"],[0.5555555555555556,\"#d8576b\"],[0.6666666666666666,\"#ed7953\"],[0.7777777777777778,\"#fb9f3a\"],[0.8888888888888888,\"#fdca26\"],[1.0,\"#f0f921\"]]}],\"contourcarpet\":[{\"type\":\"contourcarpet\",\"colorbar\":{\"outlinewidth\":0,\"ticks\":\"\"}}],\"contour\":[{\"type\":\"contour\",\"colorbar\":{\"outlinewidth\":0,\"ticks\":\"\"},\"colorscale\":[[0.0,\"#0d0887\"],[0.1111111111111111,\"#46039f\"],[0.2222222222222222,\"#7201a8\"],[0.3333333333333333,\"#9c179e\"],[0.4444444444444444,\"#bd3786\"],[0.5555555555555556,\"#d8576b\"],[0.6666666666666666,\"#ed7953\"],[0.7777777777777778,\"#fb9f3a\"],[0.8888888888888888,\"#fdca26\"],[1.0,\"#f0f921\"]]}],\"surface\":[{\"type\":\"surface\",\"colorbar\":{\"outlinewidth\":0,\"ticks\":\"\"},\"colorscale\":[[0.0,\"#0d0887\"],[0.1111111111111111,\"#46039f\"],[0.2222222222222222,\"#7201a8\"],[0.3333333333333333,\"#9c179e\"],[0.4444444444444444,\"#bd3786\"],[0.5555555555555556,\"#d8576b\"],[0.6666666666666666,\"#ed7953\"],[0.7777777777777778,\"#fb9f3a\"],[0.8888888888888888,\"#fdca26\"],[1.0,\"#f0f921\"]]}],\"mesh3d\":[{\"type\":\"mesh3d\",\"colorbar\":{\"outlinewidth\":0,\"ticks\":\"\"}}],\"scatter\":[{\"fillpattern\":{\"fillmode\":\"overlay\",\"size\":10,\"solidity\":0.2},\"type\":\"scatter\"}],\"parcoords\":[{\"type\":\"parcoords\",\"line\":{\"colorbar\":{\"outlinewidth\":0,\"ticks\":\"\"}}}],\"scatterpolargl\":[{\"type\":\"scatterpolargl\",\"marker\":{\"colorbar\":{\"outlinewidth\":0,\"ticks\":\"\"}}}],\"bar\":[{\"error_x\":{\"color\":\"#2a3f5f\"},\"error_y\":{\"color\":\"#2a3f5f\"},\"marker\":{\"line\":{\"color\":\"#E5ECF6\",\"width\":0.5},\"pattern\":{\"fillmode\":\"overlay\",\"size\":10,\"solidity\":0.2}},\"type\":\"bar\"}],\"scattergeo\":[{\"type\":\"scattergeo\",\"marker\":{\"colorbar\":{\"outlinewidth\":0,\"ticks\":\"\"}}}],\"scatterpolar\":[{\"type\":\"scatterpolar\",\"marker\":{\"colorbar\":{\"outlinewidth\":0,\"ticks\":\"\"}}}],\"histogram\":[{\"marker\":{\"pattern\":{\"fillmode\":\"overlay\",\"size\":10,\"solidity\":0.2}},\"type\":\"histogram\"}],\"scattergl\":[{\"type\":\"scattergl\",\"marker\":{\"colorbar\":{\"outlinewidth\":0,\"ticks\":\"\"}}}],\"scatter3d\":[{\"type\":\"scatter3d\",\"line\":{\"colorbar\":{\"outlinewidth\":0,\"ticks\":\"\"}},\"marker\":{\"colorbar\":{\"outlinewidth\":0,\"ticks\":\"\"}}}],\"scattermapbox\":[{\"type\":\"scattermapbox\",\"marker\":{\"colorbar\":{\"outlinewidth\":0,\"ticks\":\"\"}}}],\"scatterternary\":[{\"type\":\"scatterternary\",\"marker\":{\"colorbar\":{\"outlinewidth\":0,\"ticks\":\"\"}}}],\"scattercarpet\":[{\"type\":\"scattercarpet\",\"marker\":{\"colorbar\":{\"outlinewidth\":0,\"ticks\":\"\"}}}],\"carpet\":[{\"aaxis\":{\"endlinecolor\":\"#2a3f5f\",\"gridcolor\":\"white\",\"linecolor\":\"white\",\"minorgridcolor\":\"white\",\"startlinecolor\":\"#2a3f5f\"},\"baxis\":{\"endlinecolor\":\"#2a3f5f\",\"gridcolor\":\"white\",\"linecolor\":\"white\",\"minorgridcolor\":\"white\",\"startlinecolor\":\"#2a3f5f\"},\"type\":\"carpet\"}],\"table\":[{\"cells\":{\"fill\":{\"color\":\"#EBF0F8\"},\"line\":{\"color\":\"white\"}},\"header\":{\"fill\":{\"color\":\"#C8D4E3\"},\"line\":{\"color\":\"white\"}},\"type\":\"table\"}],\"barpolar\":[{\"marker\":{\"line\":{\"color\":\"#E5ECF6\",\"width\":0.5},\"pattern\":{\"fillmode\":\"overlay\",\"size\":10,\"solidity\":0.2}},\"type\":\"barpolar\"}],\"pie\":[{\"automargin\":true,\"type\":\"pie\"}]},\"layout\":{\"autotypenumbers\":\"strict\",\"colorway\":[\"#636efa\",\"#EF553B\",\"#00cc96\",\"#ab63fa\",\"#FFA15A\",\"#19d3f3\",\"#FF6692\",\"#B6E880\",\"#FF97FF\",\"#FECB52\"],\"font\":{\"color\":\"#2a3f5f\"},\"hovermode\":\"closest\",\"hoverlabel\":{\"align\":\"left\"},\"paper_bgcolor\":\"white\",\"plot_bgcolor\":\"#E5ECF6\",\"polar\":{\"bgcolor\":\"#E5ECF6\",\"angularaxis\":{\"gridcolor\":\"white\",\"linecolor\":\"white\",\"ticks\":\"\"},\"radialaxis\":{\"gridcolor\":\"white\",\"linecolor\":\"white\",\"ticks\":\"\"}},\"ternary\":{\"bgcolor\":\"#E5ECF6\",\"aaxis\":{\"gridcolor\":\"white\",\"linecolor\":\"white\",\"ticks\":\"\"},\"baxis\":{\"gridcolor\":\"white\",\"linecolor\":\"white\",\"ticks\":\"\"},\"caxis\":{\"gridcolor\":\"white\",\"linecolor\":\"white\",\"ticks\":\"\"}},\"coloraxis\":{\"colorbar\":{\"outlinewidth\":0,\"ticks\":\"\"}},\"colorscale\":{\"sequential\":[[0.0,\"#0d0887\"],[0.1111111111111111,\"#46039f\"],[0.2222222222222222,\"#7201a8\"],[0.3333333333333333,\"#9c179e\"],[0.4444444444444444,\"#bd3786\"],[0.5555555555555556,\"#d8576b\"],[0.6666666666666666,\"#ed7953\"],[0.7777777777777778,\"#fb9f3a\"],[0.8888888888888888,\"#fdca26\"],[1.0,\"#f0f921\"]],\"sequentialminus\":[[0.0,\"#0d0887\"],[0.1111111111111111,\"#46039f\"],[0.2222222222222222,\"#7201a8\"],[0.3333333333333333,\"#9c179e\"],[0.4444444444444444,\"#bd3786\"],[0.5555555555555556,\"#d8576b\"],[0.6666666666666666,\"#ed7953\"],[0.7777777777777778,\"#fb9f3a\"],[0.8888888888888888,\"#fdca26\"],[1.0,\"#f0f921\"]],\"diverging\":[[0,\"#8e0152\"],[0.1,\"#c51b7d\"],[0.2,\"#de77ae\"],[0.3,\"#f1b6da\"],[0.4,\"#fde0ef\"],[0.5,\"#f7f7f7\"],[0.6,\"#e6f5d0\"],[0.7,\"#b8e186\"],[0.8,\"#7fbc41\"],[0.9,\"#4d9221\"],[1,\"#276419\"]]},\"xaxis\":{\"gridcolor\":\"white\",\"linecolor\":\"white\",\"ticks\":\"\",\"title\":{\"standoff\":15},\"zerolinecolor\":\"white\",\"automargin\":true,\"zerolinewidth\":2},\"yaxis\":{\"gridcolor\":\"white\",\"linecolor\":\"white\",\"ticks\":\"\",\"title\":{\"standoff\":15},\"zerolinecolor\":\"white\",\"automargin\":true,\"zerolinewidth\":2},\"scene\":{\"xaxis\":{\"backgroundcolor\":\"#E5ECF6\",\"gridcolor\":\"white\",\"linecolor\":\"white\",\"showbackground\":true,\"ticks\":\"\",\"zerolinecolor\":\"white\",\"gridwidth\":2},\"yaxis\":{\"backgroundcolor\":\"#E5ECF6\",\"gridcolor\":\"white\",\"linecolor\":\"white\",\"showbackground\":true,\"ticks\":\"\",\"zerolinecolor\":\"white\",\"gridwidth\":2},\"zaxis\":{\"backgroundcolor\":\"#E5ECF6\",\"gridcolor\":\"white\",\"linecolor\":\"white\",\"showbackground\":true,\"ticks\":\"\",\"zerolinecolor\":\"white\",\"gridwidth\":2}},\"shapedefaults\":{\"line\":{\"color\":\"#2a3f5f\"}},\"annotationdefaults\":{\"arrowcolor\":\"#2a3f5f\",\"arrowhead\":0,\"arrowwidth\":1},\"geo\":{\"bgcolor\":\"white\",\"landcolor\":\"#E5ECF6\",\"subunitcolor\":\"white\",\"showland\":true,\"showlakes\":true,\"lakecolor\":\"white\"},\"title\":{\"x\":0.05},\"mapbox\":{\"style\":\"light\"}}},\"xaxis\":{\"anchor\":\"y\",\"domain\":[0.0,1.0],\"title\":{\"text\":\"Airport\"}},\"yaxis\":{\"anchor\":\"x\",\"domain\":[0.0,1.0],\"title\":{\"text\":\"NAS Delay Ratio\"}},\"legend\":{\"tracegroupgap\":0},\"title\":{\"text\":\"NAS Delay Ratio for Each Airport\"},\"barmode\":\"relative\"},                        {\"responsive\": true}                    )                };                            </script>        </div>\n",
       "</body>\n",
       "</html>"
      ]
     },
     "metadata": {},
     "output_type": "display_data"
    },
    {
     "output_type": "display_data",
     "data": {
      "text/html": [
       "<html>\n",
       "<head><meta charset=\"utf-8\" /></head>\n",
       "<body>\n",
       "    <div>            <script src=\"https://cdnjs.cloudflare.com/ajax/libs/mathjax/2.7.5/MathJax.js?config=TeX-AMS-MML_SVG\"></script><script type=\"text/javascript\">if (window.MathJax && window.MathJax.Hub && window.MathJax.Hub.Config) {window.MathJax.Hub.Config({SVG: {font: \"STIX-Web\"}});}</script>                <script type=\"text/javascript\">window.PlotlyConfig = {MathJaxConfig: 'local'};</script>\n",
       "        <script src=\"https://cdn.plot.ly/plotly-2.12.1.min.js\"></script>                <div id=\"d369c1aa-c12c-4dd4-b762-5b7f5c52dc8b\" class=\"plotly-graph-div\" style=\"height:100%; width:100%;\"></div>            <script type=\"text/javascript\">                                    window.PLOTLYENV=window.PLOTLYENV || {};                                    if (document.getElementById(\"d369c1aa-c12c-4dd4-b762-5b7f5c52dc8b\")) {                    Plotly.newPlot(                        \"d369c1aa-c12c-4dd4-b762-5b7f5c52dc8b\",                        [{\"alignmentgroup\":\"True\",\"hovertemplate\":\"category=Bottom 10<br>NAS Delay Ratio=%{x}<br>Airport=%{y}<extra></extra>\",\"legendgroup\":\"Bottom 10\",\"marker\":{\"color\":\"red\",\"pattern\":{\"shape\":\"\"}},\"name\":\"Bottom 10\",\"offsetgroup\":\"Bottom 10\",\"orientation\":\"h\",\"showlegend\":true,\"textposition\":\"auto\",\"x\":[0.238,0.216,0.196,0.158,0.139,0.133,0.133,0.128,0.126,0.124],\"xaxis\":\"x\",\"y\":[\"San Francisco International\",\"Newark Intl\",\"LaGuardia\",\"Chicago O'Hare International\",\"Los Angeles International\",\"Dallas-Fort Worth International\",\"Gen Edw L Logan Intl\",\"Palm Beach International\",\"McCarran International\",\"San Diego International-Lindbergh \"],\"yaxis\":\"y\",\"type\":\"bar\"},{\"alignmentgroup\":\"True\",\"hovertemplate\":\"category=Top 10<br>NAS Delay Ratio=%{x}<br>Airport=%{y}<extra></extra>\",\"legendgroup\":\"Top 10\",\"marker\":{\"color\":\"blue\",\"pattern\":{\"shape\":\"\"}},\"name\":\"Top 10\",\"offsetgroup\":\"Top 10\",\"orientation\":\"h\",\"showlegend\":true,\"textposition\":\"auto\",\"x\":[0.077,0.076,0.073,0.073,0.072,0.07,0.068,0.065,0.064,0.057],\"xaxis\":\"x\",\"y\":[\"Detroit Metropolitan-Wayne County\",\"William B Hartsfield-Atlanta Intl\",\"Kahului\",\"Philadelphia Intl\",\"Washington Dulles International\",\"Sacramento International\",\"Bradley International\",\"Dallas Love \",\"Honolulu International\",\"Baltimore-Washington International\"],\"yaxis\":\"y\",\"type\":\"bar\"}],                        {\"template\":{\"data\":{\"histogram2dcontour\":[{\"type\":\"histogram2dcontour\",\"colorbar\":{\"outlinewidth\":0,\"ticks\":\"\"},\"colorscale\":[[0.0,\"#0d0887\"],[0.1111111111111111,\"#46039f\"],[0.2222222222222222,\"#7201a8\"],[0.3333333333333333,\"#9c179e\"],[0.4444444444444444,\"#bd3786\"],[0.5555555555555556,\"#d8576b\"],[0.6666666666666666,\"#ed7953\"],[0.7777777777777778,\"#fb9f3a\"],[0.8888888888888888,\"#fdca26\"],[1.0,\"#f0f921\"]]}],\"choropleth\":[{\"type\":\"choropleth\",\"colorbar\":{\"outlinewidth\":0,\"ticks\":\"\"}}],\"histogram2d\":[{\"type\":\"histogram2d\",\"colorbar\":{\"outlinewidth\":0,\"ticks\":\"\"},\"colorscale\":[[0.0,\"#0d0887\"],[0.1111111111111111,\"#46039f\"],[0.2222222222222222,\"#7201a8\"],[0.3333333333333333,\"#9c179e\"],[0.4444444444444444,\"#bd3786\"],[0.5555555555555556,\"#d8576b\"],[0.6666666666666666,\"#ed7953\"],[0.7777777777777778,\"#fb9f3a\"],[0.8888888888888888,\"#fdca26\"],[1.0,\"#f0f921\"]]}],\"heatmap\":[{\"type\":\"heatmap\",\"colorbar\":{\"outlinewidth\":0,\"ticks\":\"\"},\"colorscale\":[[0.0,\"#0d0887\"],[0.1111111111111111,\"#46039f\"],[0.2222222222222222,\"#7201a8\"],[0.3333333333333333,\"#9c179e\"],[0.4444444444444444,\"#bd3786\"],[0.5555555555555556,\"#d8576b\"],[0.6666666666666666,\"#ed7953\"],[0.7777777777777778,\"#fb9f3a\"],[0.8888888888888888,\"#fdca26\"],[1.0,\"#f0f921\"]]}],\"heatmapgl\":[{\"type\":\"heatmapgl\",\"colorbar\":{\"outlinewidth\":0,\"ticks\":\"\"},\"colorscale\":[[0.0,\"#0d0887\"],[0.1111111111111111,\"#46039f\"],[0.2222222222222222,\"#7201a8\"],[0.3333333333333333,\"#9c179e\"],[0.4444444444444444,\"#bd3786\"],[0.5555555555555556,\"#d8576b\"],[0.6666666666666666,\"#ed7953\"],[0.7777777777777778,\"#fb9f3a\"],[0.8888888888888888,\"#fdca26\"],[1.0,\"#f0f921\"]]}],\"contourcarpet\":[{\"type\":\"contourcarpet\",\"colorbar\":{\"outlinewidth\":0,\"ticks\":\"\"}}],\"contour\":[{\"type\":\"contour\",\"colorbar\":{\"outlinewidth\":0,\"ticks\":\"\"},\"colorscale\":[[0.0,\"#0d0887\"],[0.1111111111111111,\"#46039f\"],[0.2222222222222222,\"#7201a8\"],[0.3333333333333333,\"#9c179e\"],[0.4444444444444444,\"#bd3786\"],[0.5555555555555556,\"#d8576b\"],[0.6666666666666666,\"#ed7953\"],[0.7777777777777778,\"#fb9f3a\"],[0.8888888888888888,\"#fdca26\"],[1.0,\"#f0f921\"]]}],\"surface\":[{\"type\":\"surface\",\"colorbar\":{\"outlinewidth\":0,\"ticks\":\"\"},\"colorscale\":[[0.0,\"#0d0887\"],[0.1111111111111111,\"#46039f\"],[0.2222222222222222,\"#7201a8\"],[0.3333333333333333,\"#9c179e\"],[0.4444444444444444,\"#bd3786\"],[0.5555555555555556,\"#d8576b\"],[0.6666666666666666,\"#ed7953\"],[0.7777777777777778,\"#fb9f3a\"],[0.8888888888888888,\"#fdca26\"],[1.0,\"#f0f921\"]]}],\"mesh3d\":[{\"type\":\"mesh3d\",\"colorbar\":{\"outlinewidth\":0,\"ticks\":\"\"}}],\"scatter\":[{\"fillpattern\":{\"fillmode\":\"overlay\",\"size\":10,\"solidity\":0.2},\"type\":\"scatter\"}],\"parcoords\":[{\"type\":\"parcoords\",\"line\":{\"colorbar\":{\"outlinewidth\":0,\"ticks\":\"\"}}}],\"scatterpolargl\":[{\"type\":\"scatterpolargl\",\"marker\":{\"colorbar\":{\"outlinewidth\":0,\"ticks\":\"\"}}}],\"bar\":[{\"error_x\":{\"color\":\"#2a3f5f\"},\"error_y\":{\"color\":\"#2a3f5f\"},\"marker\":{\"line\":{\"color\":\"#E5ECF6\",\"width\":0.5},\"pattern\":{\"fillmode\":\"overlay\",\"size\":10,\"solidity\":0.2}},\"type\":\"bar\"}],\"scattergeo\":[{\"type\":\"scattergeo\",\"marker\":{\"colorbar\":{\"outlinewidth\":0,\"ticks\":\"\"}}}],\"scatterpolar\":[{\"type\":\"scatterpolar\",\"marker\":{\"colorbar\":{\"outlinewidth\":0,\"ticks\":\"\"}}}],\"histogram\":[{\"marker\":{\"pattern\":{\"fillmode\":\"overlay\",\"size\":10,\"solidity\":0.2}},\"type\":\"histogram\"}],\"scattergl\":[{\"type\":\"scattergl\",\"marker\":{\"colorbar\":{\"outlinewidth\":0,\"ticks\":\"\"}}}],\"scatter3d\":[{\"type\":\"scatter3d\",\"line\":{\"colorbar\":{\"outlinewidth\":0,\"ticks\":\"\"}},\"marker\":{\"colorbar\":{\"outlinewidth\":0,\"ticks\":\"\"}}}],\"scattermapbox\":[{\"type\":\"scattermapbox\",\"marker\":{\"colorbar\":{\"outlinewidth\":0,\"ticks\":\"\"}}}],\"scatterternary\":[{\"type\":\"scatterternary\",\"marker\":{\"colorbar\":{\"outlinewidth\":0,\"ticks\":\"\"}}}],\"scattercarpet\":[{\"type\":\"scattercarpet\",\"marker\":{\"colorbar\":{\"outlinewidth\":0,\"ticks\":\"\"}}}],\"carpet\":[{\"aaxis\":{\"endlinecolor\":\"#2a3f5f\",\"gridcolor\":\"white\",\"linecolor\":\"white\",\"minorgridcolor\":\"white\",\"startlinecolor\":\"#2a3f5f\"},\"baxis\":{\"endlinecolor\":\"#2a3f5f\",\"gridcolor\":\"white\",\"linecolor\":\"white\",\"minorgridcolor\":\"white\",\"startlinecolor\":\"#2a3f5f\"},\"type\":\"carpet\"}],\"table\":[{\"cells\":{\"fill\":{\"color\":\"#EBF0F8\"},\"line\":{\"color\":\"white\"}},\"header\":{\"fill\":{\"color\":\"#C8D4E3\"},\"line\":{\"color\":\"white\"}},\"type\":\"table\"}],\"barpolar\":[{\"marker\":{\"line\":{\"color\":\"#E5ECF6\",\"width\":0.5},\"pattern\":{\"fillmode\":\"overlay\",\"size\":10,\"solidity\":0.2}},\"type\":\"barpolar\"}],\"pie\":[{\"automargin\":true,\"type\":\"pie\"}]},\"layout\":{\"autotypenumbers\":\"strict\",\"colorway\":[\"#636efa\",\"#EF553B\",\"#00cc96\",\"#ab63fa\",\"#FFA15A\",\"#19d3f3\",\"#FF6692\",\"#B6E880\",\"#FF97FF\",\"#FECB52\"],\"font\":{\"color\":\"#2a3f5f\"},\"hovermode\":\"closest\",\"hoverlabel\":{\"align\":\"left\"},\"paper_bgcolor\":\"white\",\"plot_bgcolor\":\"#E5ECF6\",\"polar\":{\"bgcolor\":\"#E5ECF6\",\"angularaxis\":{\"gridcolor\":\"white\",\"linecolor\":\"white\",\"ticks\":\"\"},\"radialaxis\":{\"gridcolor\":\"white\",\"linecolor\":\"white\",\"ticks\":\"\"}},\"ternary\":{\"bgcolor\":\"#E5ECF6\",\"aaxis\":{\"gridcolor\":\"white\",\"linecolor\":\"white\",\"ticks\":\"\"},\"baxis\":{\"gridcolor\":\"white\",\"linecolor\":\"white\",\"ticks\":\"\"},\"caxis\":{\"gridcolor\":\"white\",\"linecolor\":\"white\",\"ticks\":\"\"}},\"coloraxis\":{\"colorbar\":{\"outlinewidth\":0,\"ticks\":\"\"}},\"colorscale\":{\"sequential\":[[0.0,\"#0d0887\"],[0.1111111111111111,\"#46039f\"],[0.2222222222222222,\"#7201a8\"],[0.3333333333333333,\"#9c179e\"],[0.4444444444444444,\"#bd3786\"],[0.5555555555555556,\"#d8576b\"],[0.6666666666666666,\"#ed7953\"],[0.7777777777777778,\"#fb9f3a\"],[0.8888888888888888,\"#fdca26\"],[1.0,\"#f0f921\"]],\"sequentialminus\":[[0.0,\"#0d0887\"],[0.1111111111111111,\"#46039f\"],[0.2222222222222222,\"#7201a8\"],[0.3333333333333333,\"#9c179e\"],[0.4444444444444444,\"#bd3786\"],[0.5555555555555556,\"#d8576b\"],[0.6666666666666666,\"#ed7953\"],[0.7777777777777778,\"#fb9f3a\"],[0.8888888888888888,\"#fdca26\"],[1.0,\"#f0f921\"]],\"diverging\":[[0,\"#8e0152\"],[0.1,\"#c51b7d\"],[0.2,\"#de77ae\"],[0.3,\"#f1b6da\"],[0.4,\"#fde0ef\"],[0.5,\"#f7f7f7\"],[0.6,\"#e6f5d0\"],[0.7,\"#b8e186\"],[0.8,\"#7fbc41\"],[0.9,\"#4d9221\"],[1,\"#276419\"]]},\"xaxis\":{\"gridcolor\":\"white\",\"linecolor\":\"white\",\"ticks\":\"\",\"title\":{\"standoff\":15},\"zerolinecolor\":\"white\",\"automargin\":true,\"zerolinewidth\":2},\"yaxis\":{\"gridcolor\":\"white\",\"linecolor\":\"white\",\"ticks\":\"\",\"title\":{\"standoff\":15},\"zerolinecolor\":\"white\",\"automargin\":true,\"zerolinewidth\":2},\"scene\":{\"xaxis\":{\"backgroundcolor\":\"#E5ECF6\",\"gridcolor\":\"white\",\"linecolor\":\"white\",\"showbackground\":true,\"ticks\":\"\",\"zerolinecolor\":\"white\",\"gridwidth\":2},\"yaxis\":{\"backgroundcolor\":\"#E5ECF6\",\"gridcolor\":\"white\",\"linecolor\":\"white\",\"showbackground\":true,\"ticks\":\"\",\"zerolinecolor\":\"white\",\"gridwidth\":2},\"zaxis\":{\"backgroundcolor\":\"#E5ECF6\",\"gridcolor\":\"white\",\"linecolor\":\"white\",\"showbackground\":true,\"ticks\":\"\",\"zerolinecolor\":\"white\",\"gridwidth\":2}},\"shapedefaults\":{\"line\":{\"color\":\"#2a3f5f\"}},\"annotationdefaults\":{\"arrowcolor\":\"#2a3f5f\",\"arrowhead\":0,\"arrowwidth\":1},\"geo\":{\"bgcolor\":\"white\",\"landcolor\":\"#E5ECF6\",\"subunitcolor\":\"white\",\"showland\":true,\"showlakes\":true,\"lakecolor\":\"white\"},\"title\":{\"x\":0.05},\"mapbox\":{\"style\":\"light\"}}},\"xaxis\":{\"anchor\":\"y\",\"domain\":[0.0,1.0],\"title\":{\"text\":\"NAS Delay Ratio\"}},\"yaxis\":{\"anchor\":\"x\",\"domain\":[0.0,1.0],\"title\":{\"text\":\"Airport\"}},\"legend\":{\"title\":{\"text\":\"category\"},\"tracegroupgap\":0},\"title\":{\"text\":\"Top & Bottom 10 Airports by NAS Delay Ratio\"},\"barmode\":\"relative\"},                        {\"responsive\": true}                    )                };                            </script>        </div>\n",
       "</body>\n",
       "</html>"
      ]
     },
     "metadata": {},
     "output_type": "display_data"
    }
   ],
   "source": [
    "from pyspark.sql.functions import avg, round, sum, col, count\n",
    "\n",
    "# Calculate average security delay, NAS delay, and counts for each destination airport where delays are greater than 0\n",
    "NAS_delay_airport = flight_data.groupBy(\"DEST\").agg(\n",
    "    sum((col(\"SECURITY_DELAY\") > 0).cast(\"int\")).alias(\"SECURITY_DELAY_COUNT\"),\n",
    "    sum((col(\"NAS_DELAY\") > 0).cast(\"int\")).alias(\"NAS_DELAY_COUNT\"),\n",
    "    count(\"*\").alias(\"TOTAL_FLIGHTS\")\n",
    ")\n",
    "\n",
    "# Calculate the ratio of Security delay counts to total number of flights\n",
    "NAS_delay_airport = NAS_delay_airport.withColumn(\n",
    "    \"SECURITY_DELAY_RATIO\", round(col(\"SECURITY_DELAY_COUNT\") / col(\"TOTAL_FLIGHTS\"), 4)\n",
    ")\n",
    "\n",
    "# Calculate the ratio of NAS delay counts to total number of flights\n",
    "NAS_delay_airport = NAS_delay_airport.withColumn(\n",
    "    \"NAS_DELAY_RATIO\", round(col(\"NAS_DELAY_COUNT\") / col(\"TOTAL_FLIGHTS\"), 3)\n",
    ")\n",
    "\n",
    "\n",
    "# Calculate the average total flights per airport\n",
    "avg_total_flights = NAS_delay_airport.select(\n",
    "    (sum(\"TOTAL_FLIGHTS\") / count(\"DEST\")).alias(\"avg_total_flights\")\n",
    ").first()[\"avg_total_flights\"]\n",
    "\n",
    "# Filter out airports with total flights more than the average total flights per airport\n",
    "filtered_NAS_delay_airport = NAS_delay_airport.filter(\n",
    "    col(\"TOTAL_FLIGHTS\") > avg_total_flights\n",
    ")\n",
    "\n",
    "\n",
    "filtered_NAS_delay_airport  = filtered_NAS_delay_airport.orderBy(\"NAS_DELAY_RATIO\")\n",
    "\n",
    "# Join with airport data to get airport names\n",
    "filtered_NAS_delay_airport = filtered_NAS_delay_airport.join(airports_data, \n",
    "filtered_NAS_delay_airport.DEST == airports_data.iata, \"left\").select(\n",
    "    \"iata\", \n",
    "    \"airport\", \n",
    "    \"city\",\n",
    "    \"SECURITY_DELAY_RATIO\", \n",
    "    \"NAS_DELAY_RATIO\",  \n",
    "    \"TOTAL_FLIGHTS\"\n",
    ")\n",
    "\n",
    "# Show the DataFrame with airport names\n",
    "filtered_NAS_delay_airport=filtered_NAS_delay_airport.orderBy(\"NAS_DELAY_RATIO\")\n",
    "display(filtered_NAS_delay_airport)\n",
    "filtered_NAS_delay_airport.cache()\n",
    "\n",
    "\n",
    "# Create a bar chart for NAS Delay Ratio\n",
    "fig_nas = px.bar(\n",
    "    filtered_NAS_delay_airport.toPandas(),\n",
    "    y='NAS_DELAY_RATIO',\n",
    "    x='iata',\n",
    "    title='NAS Delay Ratio for Each Airport',\n",
    "    labels={'iata': 'Airport', 'NAS_DELAY_RATIO': 'NAS Delay Ratio'},\n",
    "    hover_data={'iata': False, 'airport': True, 'NAS_DELAY_RATIO': True},\n",
    "    orientation='v',\n",
    "    color_discrete_sequence=['blue']\n",
    ")\n",
    "\n",
    "# Show the plot for NAS Delay Ratio\n",
    "fig_nas.show()\n",
    "\n",
    "# Sort the data by NAS Delay Ratio\n",
    "sorted_nas_data = filtered_NAS_delay_airport.toPandas().sort_values(by='NAS_DELAY_RATIO', ascending=False)\n",
    "\n",
    "# only NAS plots as Security delays are insignificant in comparison\n",
    "import plotly.graph_objects as go\n",
    "import pandas as pd\n",
    "\n",
    "# Take the top 10 and bottom 10\n",
    "bottom10_nas = sorted_nas_data.head(10)\n",
    "top10_nas = sorted_nas_data.tail(10)\n",
    "\n",
    "# Combine top 10 and bottom 10\n",
    "combined_nas = pd.concat([bottom10_nas, top10_nas])\n",
    "\n",
    "# Create a new column to distinguish top 10 and bottom 10\n",
    "combined_nas['category'] = ['Bottom 10'] * 10 + ['Top 10'] * 10\n",
    "\n",
    "# Plot the combined data\n",
    "fig_combined_nas = px.bar(\n",
    "    combined_nas,\n",
    "    y='airport',\n",
    "    x='NAS_DELAY_RATIO',\n",
    "    title='Top & Bottom 10 Airports by NAS Delay Ratio',\n",
    "    labels={'airport': 'Airport', 'NAS_DELAY_RATIO': 'NAS Delay Ratio'},\n",
    "    orientation='h',\n",
    "    color='category',\n",
    "    color_discrete_map={'Top 10': 'blue', 'Bottom 10': 'red'},\n",
    "    hover_data={'airport': True, 'NAS_DELAY_RATIO': True}\n",
    ")\n",
    "\n",
    "# Show the plot\n",
    "fig_combined_nas.show()\n",
    "\n",
    "\n"
   ]
  },
  {
   "cell_type": "code",
   "execution_count": 0,
   "metadata": {
    "application/vnd.databricks.v1+cell": {
     "cellMetadata": {
      "byteLimit": 2048000,
      "rowLimit": 10000
     },
     "inputWidgets": {},
     "nuid": "f6a23425-8262-427d-a4ec-7fd8bd718606",
     "showTitle": true,
     "title": "Final ranking of top airports"
    }
   },
   "outputs": [
    {
     "output_type": "display_data",
     "data": {
      "text/html": [
       "<style scoped>\n",
       "  .table-result-container {\n",
       "    max-height: 300px;\n",
       "    overflow: auto;\n",
       "  }\n",
       "  table, th, td {\n",
       "    border: 1px solid black;\n",
       "    border-collapse: collapse;\n",
       "  }\n",
       "  th, td {\n",
       "    padding: 5px;\n",
       "  }\n",
       "  th {\n",
       "    text-align: left;\n",
       "  }\n",
       "</style><div class='table-result-container'><table class='table-result'><thead style='background-color: white'><tr><th>iata</th><th>airport</th><th>city</th><th>total_delay</th><th>on_time_pct</th><th>NAS_delay_ratio</th><th>avg_delay_rank</th><th>on_time_rank</th><th>NAS_rank</th><th>overall_score</th><th>overall_rank</th></tr></thead><tbody><tr><td>HNL</td><td>Honolulu International</td><td>Honolulu</td><td>7.0</td><td>86.2</td><td>0.064</td><td>3</td><td>1</td><td>2</td><td>6</td><td>1</td></tr><tr><td>PHL</td><td>Philadelphia Intl</td><td>Philadelphia</td><td>6.03</td><td>85.775</td><td>0.073</td><td>1</td><td>4</td><td>7</td><td>12</td><td>2</td></tr><tr><td>ATL</td><td>William B Hartsfield-Atlanta Intl</td><td>Atlanta</td><td>7.75</td><td>85.915</td><td>0.076</td><td>4</td><td>2</td><td>9</td><td>15</td><td>3</td></tr><tr><td>OGG</td><td>Kahului</td><td>Kahului</td><td>8.46</td><td>85.825</td><td>0.073</td><td>6</td><td>3</td><td>7</td><td>16</td><td>4</td></tr><tr><td>BWI</td><td>Baltimore-Washington International</td><td>Baltimore</td><td>9.01</td><td>84.11</td><td>0.057</td><td>8</td><td>14</td><td>1</td><td>23</td><td>5</td></tr><tr><td>SAT</td><td>San Antonio International</td><td>San Antonio</td><td>8.39</td><td>84.42</td><td>0.08</td><td>5</td><td>8</td><td>12</td><td>25</td><td>6</td></tr><tr><td>SMF</td><td>Sacramento International</td><td>Sacramento</td><td>9.87</td><td>84.2</td><td>0.07</td><td>9</td><td>12</td><td>5</td><td>26</td><td>7</td></tr><tr><td>CLT</td><td>Charlotte/Douglas International</td><td>Charlotte</td><td>9.91</td><td>84.33</td><td>0.079</td><td>10</td><td>9</td><td>11</td><td>30</td><td>8</td></tr><tr><td>PDX</td><td>Portland Intl</td><td>Portland</td><td>6.87</td><td>85.325</td><td>0.086</td><td>2</td><td>6</td><td>22</td><td>30</td><td>8</td></tr><tr><td>SJC</td><td>San Jose International</td><td>San Jose</td><td>8.46</td><td>84.17</td><td>0.085</td><td>6</td><td>13</td><td>18</td><td>37</td><td>10</td></tr><tr><td>CHS</td><td>Charleston AFB/International</td><td>Charleston</td><td>10.32</td><td>84.56</td><td>0.085</td><td>13</td><td>7</td><td>18</td><td>38</td><td>11</td></tr><tr><td>BDL</td><td>Bradley International</td><td>Windsor Locks</td><td>11.51</td><td>83.92</td><td>0.068</td><td>18</td><td>17</td><td>4</td><td>39</td><td>12</td></tr><tr><td>IAD</td><td>Washington Dulles International</td><td>Chantilly</td><td>13.21</td><td>85.36</td><td>0.072</td><td>30</td><td>5</td><td>6</td><td>41</td><td>13</td></tr><tr><td>AUS</td><td>Austin-Bergstrom International</td><td>Austin</td><td>10.32</td><td>83.755</td><td>0.085</td><td>13</td><td>18</td><td>18</td><td>49</td><td>14</td></tr><tr><td>JAX</td><td>Jacksonville International</td><td>Jacksonville</td><td>11.17</td><td>84.285</td><td>0.086</td><td>17</td><td>10</td><td>22</td><td>49</td><td>14</td></tr><tr><td>PIT</td><td>Pittsburgh International</td><td>Pittsburgh</td><td>11.6</td><td>83.955</td><td>0.084</td><td>19</td><td>16</td><td>15</td><td>50</td><td>16</td></tr><tr><td>DAL</td><td>Dallas Love </td><td>Dallas</td><td>10.18</td><td>81.885</td><td>0.065</td><td>11</td><td>40</td><td>3</td><td>54</td><td>17</td></tr><tr><td>DTW</td><td>Detroit Metropolitan-Wayne County</td><td>Detroit</td><td>14.31</td><td>84.07</td><td>0.077</td><td>37</td><td>15</td><td>10</td><td>62</td><td>18</td></tr><tr><td>IND</td><td>Indianapolis International</td><td>Indianapolis</td><td>12.23</td><td>83.57</td><td>0.089</td><td>22</td><td>20</td><td>26</td><td>68</td><td>19</td></tr><tr><td>MSY</td><td>New Orleans International </td><td>New Orleans</td><td>10.72</td><td>83.205</td><td>0.093</td><td>15</td><td>23</td><td>31</td><td>69</td><td>20</td></tr><tr><td>ABQ</td><td>Albuquerque International</td><td>Albuquerque</td><td>13.12</td><td>83.2</td><td>0.085</td><td>28</td><td>24</td><td>18</td><td>70</td><td>21</td></tr><tr><td>MIA</td><td>Miami International</td><td>Miami</td><td>11.7</td><td>83.31</td><td>0.095</td><td>20</td><td>22</td><td>33</td><td>75</td><td>22</td></tr><tr><td>MEM</td><td>Memphis International</td><td>Memphis</td><td>12.97</td><td>83.69</td><td>0.095</td><td>26</td><td>19</td><td>33</td><td>78</td><td>23</td></tr><tr><td>CMH</td><td>Port Columbus Intl</td><td>Columbus</td><td>12.88</td><td>82.73</td><td>0.09</td><td>25</td><td>29</td><td>27</td><td>81</td><td>24</td></tr><tr><td>SLC</td><td>Salt Lake City Intl</td><td>Salt Lake City</td><td>13.28</td><td>84.245</td><td>0.098</td><td>32</td><td>11</td><td>39</td><td>82</td><td>25</td></tr><tr><td>MCI</td><td>Kansas City International</td><td>Kansas City</td><td>12.62</td><td>82.875</td><td>0.094</td><td>24</td><td>28</td><td>32</td><td>84</td><td>26</td></tr><tr><td>HOU</td><td>William P Hobby</td><td>Houston</td><td>11.92</td><td>81.05</td><td>0.081</td><td>21</td><td>52</td><td>13</td><td>86</td><td>27</td></tr><tr><td>OAK</td><td>Metropolitan Oakland International</td><td>Oakland</td><td>12.42</td><td>81.065</td><td>0.082</td><td>23</td><td>51</td><td>14</td><td>88</td><td>28</td></tr><tr><td>SNA</td><td>John Wayne /Orange Co</td><td>Santa Ana</td><td>11.16</td><td>83.015</td><td>0.104</td><td>16</td><td>26</td><td>46</td><td>88</td><td>28</td></tr><tr><td>SEA</td><td>Seattle-Tacoma Intl</td><td>Seattle</td><td>10.19</td><td>83.015</td><td>0.115</td><td>12</td><td>26</td><td>54</td><td>92</td><td>30</td></tr><tr><td>TPA</td><td>Tampa International </td><td>Tampa</td><td>13.23</td><td>82.55</td><td>0.096</td><td>31</td><td>31</td><td>36</td><td>98</td><td>31</td></tr><tr><td>SDF</td><td>Louisville International-Standiford </td><td>Louisville</td><td>16.1</td><td>83.065</td><td>0.091</td><td>46</td><td>25</td><td>28</td><td>99</td><td>32</td></tr><tr><td>IAH</td><td>George Bush Intercontinental</td><td>Houston</td><td>13.02</td><td>83.35</td><td>0.11</td><td>27</td><td>21</td><td>51</td><td>99</td><td>32</td></tr><tr><td>BNA</td><td>Nashville International</td><td>Nashville</td><td>14.46</td><td>81.915</td><td>0.087</td><td>38</td><td>39</td><td>24</td><td>101</td><td>34</td></tr><tr><td>JFK</td><td>John F Kennedy Intl</td><td>New York</td><td>13.38</td><td>82.26</td><td>0.095</td><td>33</td><td>35</td><td>33</td><td>101</td><td>34</td></tr><tr><td>MKE</td><td>General Mitchell International</td><td>Milwaukee</td><td>17.0</td><td>81.965</td><td>0.084</td><td>54</td><td>37</td><td>15</td><td>106</td><td>36</td></tr><tr><td>ORF</td><td>Norfolk International</td><td>Norfolk</td><td>15.58</td><td>82.31</td><td>0.092</td><td>43</td><td>33</td><td>30</td><td>106</td><td>36</td></tr><tr><td>STL</td><td>Lambert-St Louis International</td><td>St Louis</td><td>15.07</td><td>80.91</td><td>0.084</td><td>40</td><td>53</td><td>15</td><td>108</td><td>38</td></tr><tr><td>RDU</td><td>Raleigh-Durham International</td><td>Raleigh</td><td>14.85</td><td>82.305</td><td>0.096</td><td>39</td><td>34</td><td>36</td><td>109</td><td>39</td></tr><tr><td>RIC</td><td>Richmond International</td><td>Richmond</td><td>15.54</td><td>82.62</td><td>0.097</td><td>42</td><td>30</td><td>38</td><td>110</td><td>40</td></tr><tr><td>BUR</td><td>Burbank-Glendale-Pasadena</td><td>Burbank</td><td>15.81</td><td>81.71</td><td>0.088</td><td>44</td><td>44</td><td>25</td><td>113</td><td>41</td></tr><tr><td>BUF</td><td>Buffalo Niagara Intl</td><td>Buffalo</td><td>16.91</td><td>81.95</td><td>0.091</td><td>53</td><td>38</td><td>28</td><td>119</td><td>42</td></tr><tr><td>DCA</td><td>Ronald Reagan Washington National</td><td>Arlington</td><td>14.13</td><td>81.745</td><td>0.102</td><td>36</td><td>42</td><td>43</td><td>121</td><td>43</td></tr><tr><td>PHX</td><td>Phoenix Sky Harbor International</td><td>Phoenix</td><td>13.53</td><td>81.87</td><td>0.108</td><td>34</td><td>41</td><td>49</td><td>124</td><td>44</td></tr><tr><td>MSP</td><td>Minneapolis-St Paul Intl</td><td>Minneapolis</td><td>17.95</td><td>82.54</td><td>0.099</td><td>57</td><td>32</td><td>40</td><td>129</td><td>45</td></tr><tr><td>CLE</td><td>Cleveland-Hopkins Intl</td><td>Cleveland</td><td>16.23</td><td>81.715</td><td>0.099</td><td>48</td><td>43</td><td>40</td><td>131</td><td>46</td></tr><tr><td>TUS</td><td>Tucson International</td><td>Tucson</td><td>16.1</td><td>82.07</td><td>0.109</td><td>46</td><td>36</td><td>50</td><td>132</td><td>47</td></tr><tr><td>RSW</td><td>Southwest Florida International</td><td>Ft. Myers</td><td>13.73</td><td>81.57</td><td>0.11</td><td>35</td><td>46</td><td>51</td><td>132</td><td>47</td></tr><tr><td>MCO</td><td>Orlando International</td><td>Orlando</td><td>15.42</td><td>81.19</td><td>0.102</td><td>41</td><td>50</td><td>43</td><td>134</td><td>49</td></tr><tr><td>SAN</td><td>San Diego International-Lindbergh </td><td>San Diego</td><td>13.15</td><td>81.335</td><td>0.124</td><td>29</td><td>49</td><td>56</td><td>134</td><td>49</td></tr><tr><td>CVG</td><td>Cincinnati Northern Kentucky Intl</td><td>Covington</td><td>16.84</td><td>81.64</td><td>0.099</td><td>52</td><td>45</td><td>40</td><td>137</td><td>51</td></tr><tr><td>OMA</td><td>Eppley Airfield</td><td>Omaha</td><td>15.85</td><td>81.415</td><td>0.103</td><td>45</td><td>48</td><td>45</td><td>138</td><td>52</td></tr><tr><td>OKC</td><td>Will Rogers World</td><td>Oklahoma City</td><td>16.69</td><td>81.45</td><td>0.105</td><td>51</td><td>47</td><td>48</td><td>146</td><td>53</td></tr><tr><td>DEN</td><td>Denver Intl</td><td>Denver</td><td>17.49</td><td>80.85</td><td>0.104</td><td>55</td><td>54</td><td>46</td><td>155</td><td>54</td></tr><tr><td>LAS</td><td>McCarran International</td><td>Las Vegas</td><td>16.38</td><td>79.945</td><td>0.126</td><td>49</td><td>55</td><td>57</td><td>161</td><td>55</td></tr><tr><td>FLL</td><td>Fort Lauderdale-Hollywood Int'l</td><td>Ft. Lauderdale</td><td>17.54</td><td>79.545</td><td>0.112</td><td>56</td><td>57</td><td>53</td><td>166</td><td>56</td></tr><tr><td>LAX</td><td>Los Angeles International</td><td>Los Angeles</td><td>16.43</td><td>79.905</td><td>0.139</td><td>50</td><td>56</td><td>60</td><td>166</td><td>56</td></tr><tr><td>SJU</td><td>Luis Munoz Marin International</td><td>San Juan</td><td>19.77</td><td>78.09</td><td>0.115</td><td>60</td><td>59</td><td>54</td><td>173</td><td>58</td></tr><tr><td>PBI</td><td>Palm Beach International</td><td>West Palm Beach</td><td>18.87</td><td>77.91</td><td>0.128</td><td>58</td><td>60</td><td>58</td><td>176</td><td>59</td></tr><tr><td>DFW</td><td>Dallas-Fort Worth International</td><td>Dallas-Fort Worth</td><td>19.47</td><td>79.195</td><td>0.133</td><td>59</td><td>58</td><td>59</td><td>176</td><td>59</td></tr><tr><td>LGA</td><td>LaGuardia</td><td>New York</td><td>25.82</td><td>75.275</td><td>0.196</td><td>61</td><td>61</td><td>61</td><td>183</td><td>61</td></tr><tr><td>EWR</td><td>Newark Intl</td><td>Newark</td><td>29.24</td><td>74.515</td><td>0.216</td><td>62</td><td>62</td><td>62</td><td>186</td><td>62</td></tr></tbody></table></div>"
      ]
     },
     "metadata": {
      "application/vnd.databricks.v1+output": {
       "addedWidgets": {},
       "aggData": [],
       "aggError": "",
       "aggOverflow": false,
       "aggSchema": [],
       "aggSeriesLimitReached": false,
       "aggType": "",
       "arguments": {},
       "columnCustomDisplayInfos": {},
       "data": [
        [
         "HNL",
         "Honolulu International",
         "Honolulu",
         7.0,
         86.2,
         0.064,
         3,
         1,
         2,
         6,
         1
        ],
        [
         "PHL",
         "Philadelphia Intl",
         "Philadelphia",
         6.03,
         85.775,
         0.073,
         1,
         4,
         7,
         12,
         2
        ],
        [
         "ATL",
         "William B Hartsfield-Atlanta Intl",
         "Atlanta",
         7.75,
         85.915,
         0.076,
         4,
         2,
         9,
         15,
         3
        ],
        [
         "OGG",
         "Kahului",
         "Kahului",
         8.46,
         85.825,
         0.073,
         6,
         3,
         7,
         16,
         4
        ],
        [
         "BWI",
         "Baltimore-Washington International",
         "Baltimore",
         9.01,
         84.11,
         0.057,
         8,
         14,
         1,
         23,
         5
        ],
        [
         "SAT",
         "San Antonio International",
         "San Antonio",
         8.39,
         84.42,
         0.08,
         5,
         8,
         12,
         25,
         6
        ],
        [
         "SMF",
         "Sacramento International",
         "Sacramento",
         9.87,
         84.2,
         0.07,
         9,
         12,
         5,
         26,
         7
        ],
        [
         "CLT",
         "Charlotte/Douglas International",
         "Charlotte",
         9.91,
         84.33,
         0.079,
         10,
         9,
         11,
         30,
         8
        ],
        [
         "PDX",
         "Portland Intl",
         "Portland",
         6.87,
         85.325,
         0.086,
         2,
         6,
         22,
         30,
         8
        ],
        [
         "SJC",
         "San Jose International",
         "San Jose",
         8.46,
         84.17,
         0.085,
         6,
         13,
         18,
         37,
         10
        ],
        [
         "CHS",
         "Charleston AFB/International",
         "Charleston",
         10.32,
         84.56,
         0.085,
         13,
         7,
         18,
         38,
         11
        ],
        [
         "BDL",
         "Bradley International",
         "Windsor Locks",
         11.51,
         83.92,
         0.068,
         18,
         17,
         4,
         39,
         12
        ],
        [
         "IAD",
         "Washington Dulles International",
         "Chantilly",
         13.21,
         85.36,
         0.072,
         30,
         5,
         6,
         41,
         13
        ],
        [
         "AUS",
         "Austin-Bergstrom International",
         "Austin",
         10.32,
         83.755,
         0.085,
         13,
         18,
         18,
         49,
         14
        ],
        [
         "JAX",
         "Jacksonville International",
         "Jacksonville",
         11.17,
         84.285,
         0.086,
         17,
         10,
         22,
         49,
         14
        ],
        [
         "PIT",
         "Pittsburgh International",
         "Pittsburgh",
         11.6,
         83.955,
         0.084,
         19,
         16,
         15,
         50,
         16
        ],
        [
         "DAL",
         "Dallas Love ",
         "Dallas",
         10.18,
         81.885,
         0.065,
         11,
         40,
         3,
         54,
         17
        ],
        [
         "DTW",
         "Detroit Metropolitan-Wayne County",
         "Detroit",
         14.31,
         84.07,
         0.077,
         37,
         15,
         10,
         62,
         18
        ],
        [
         "IND",
         "Indianapolis International",
         "Indianapolis",
         12.23,
         83.57,
         0.089,
         22,
         20,
         26,
         68,
         19
        ],
        [
         "MSY",
         "New Orleans International ",
         "New Orleans",
         10.72,
         83.205,
         0.093,
         15,
         23,
         31,
         69,
         20
        ],
        [
         "ABQ",
         "Albuquerque International",
         "Albuquerque",
         13.12,
         83.2,
         0.085,
         28,
         24,
         18,
         70,
         21
        ],
        [
         "MIA",
         "Miami International",
         "Miami",
         11.7,
         83.31,
         0.095,
         20,
         22,
         33,
         75,
         22
        ],
        [
         "MEM",
         "Memphis International",
         "Memphis",
         12.97,
         83.69,
         0.095,
         26,
         19,
         33,
         78,
         23
        ],
        [
         "CMH",
         "Port Columbus Intl",
         "Columbus",
         12.88,
         82.73,
         0.09,
         25,
         29,
         27,
         81,
         24
        ],
        [
         "SLC",
         "Salt Lake City Intl",
         "Salt Lake City",
         13.28,
         84.245,
         0.098,
         32,
         11,
         39,
         82,
         25
        ],
        [
         "MCI",
         "Kansas City International",
         "Kansas City",
         12.62,
         82.875,
         0.094,
         24,
         28,
         32,
         84,
         26
        ],
        [
         "HOU",
         "William P Hobby",
         "Houston",
         11.92,
         81.05,
         0.081,
         21,
         52,
         13,
         86,
         27
        ],
        [
         "OAK",
         "Metropolitan Oakland International",
         "Oakland",
         12.42,
         81.065,
         0.082,
         23,
         51,
         14,
         88,
         28
        ],
        [
         "SNA",
         "John Wayne /Orange Co",
         "Santa Ana",
         11.16,
         83.015,
         0.104,
         16,
         26,
         46,
         88,
         28
        ],
        [
         "SEA",
         "Seattle-Tacoma Intl",
         "Seattle",
         10.19,
         83.015,
         0.115,
         12,
         26,
         54,
         92,
         30
        ],
        [
         "TPA",
         "Tampa International ",
         "Tampa",
         13.23,
         82.55,
         0.096,
         31,
         31,
         36,
         98,
         31
        ],
        [
         "SDF",
         "Louisville International-Standiford ",
         "Louisville",
         16.1,
         83.065,
         0.091,
         46,
         25,
         28,
         99,
         32
        ],
        [
         "IAH",
         "George Bush Intercontinental",
         "Houston",
         13.02,
         83.35,
         0.11,
         27,
         21,
         51,
         99,
         32
        ],
        [
         "BNA",
         "Nashville International",
         "Nashville",
         14.46,
         81.915,
         0.087,
         38,
         39,
         24,
         101,
         34
        ],
        [
         "JFK",
         "John F Kennedy Intl",
         "New York",
         13.38,
         82.26,
         0.095,
         33,
         35,
         33,
         101,
         34
        ],
        [
         "MKE",
         "General Mitchell International",
         "Milwaukee",
         17.0,
         81.965,
         0.084,
         54,
         37,
         15,
         106,
         36
        ],
        [
         "ORF",
         "Norfolk International",
         "Norfolk",
         15.58,
         82.31,
         0.092,
         43,
         33,
         30,
         106,
         36
        ],
        [
         "STL",
         "Lambert-St Louis International",
         "St Louis",
         15.07,
         80.91,
         0.084,
         40,
         53,
         15,
         108,
         38
        ],
        [
         "RDU",
         "Raleigh-Durham International",
         "Raleigh",
         14.85,
         82.305,
         0.096,
         39,
         34,
         36,
         109,
         39
        ],
        [
         "RIC",
         "Richmond International",
         "Richmond",
         15.54,
         82.62,
         0.097,
         42,
         30,
         38,
         110,
         40
        ],
        [
         "BUR",
         "Burbank-Glendale-Pasadena",
         "Burbank",
         15.81,
         81.71,
         0.088,
         44,
         44,
         25,
         113,
         41
        ],
        [
         "BUF",
         "Buffalo Niagara Intl",
         "Buffalo",
         16.91,
         81.95,
         0.091,
         53,
         38,
         28,
         119,
         42
        ],
        [
         "DCA",
         "Ronald Reagan Washington National",
         "Arlington",
         14.13,
         81.745,
         0.102,
         36,
         42,
         43,
         121,
         43
        ],
        [
         "PHX",
         "Phoenix Sky Harbor International",
         "Phoenix",
         13.53,
         81.87,
         0.108,
         34,
         41,
         49,
         124,
         44
        ],
        [
         "MSP",
         "Minneapolis-St Paul Intl",
         "Minneapolis",
         17.95,
         82.54,
         0.099,
         57,
         32,
         40,
         129,
         45
        ],
        [
         "CLE",
         "Cleveland-Hopkins Intl",
         "Cleveland",
         16.23,
         81.715,
         0.099,
         48,
         43,
         40,
         131,
         46
        ],
        [
         "TUS",
         "Tucson International",
         "Tucson",
         16.1,
         82.07,
         0.109,
         46,
         36,
         50,
         132,
         47
        ],
        [
         "RSW",
         "Southwest Florida International",
         "Ft. Myers",
         13.73,
         81.57,
         0.11,
         35,
         46,
         51,
         132,
         47
        ],
        [
         "MCO",
         "Orlando International",
         "Orlando",
         15.42,
         81.19,
         0.102,
         41,
         50,
         43,
         134,
         49
        ],
        [
         "SAN",
         "San Diego International-Lindbergh ",
         "San Diego",
         13.15,
         81.335,
         0.124,
         29,
         49,
         56,
         134,
         49
        ],
        [
         "CVG",
         "Cincinnati Northern Kentucky Intl",
         "Covington",
         16.84,
         81.64,
         0.099,
         52,
         45,
         40,
         137,
         51
        ],
        [
         "OMA",
         "Eppley Airfield",
         "Omaha",
         15.85,
         81.415,
         0.103,
         45,
         48,
         45,
         138,
         52
        ],
        [
         "OKC",
         "Will Rogers World",
         "Oklahoma City",
         16.69,
         81.45,
         0.105,
         51,
         47,
         48,
         146,
         53
        ],
        [
         "DEN",
         "Denver Intl",
         "Denver",
         17.49,
         80.85,
         0.104,
         55,
         54,
         46,
         155,
         54
        ],
        [
         "LAS",
         "McCarran International",
         "Las Vegas",
         16.38,
         79.945,
         0.126,
         49,
         55,
         57,
         161,
         55
        ],
        [
         "FLL",
         "Fort Lauderdale-Hollywood Int'l",
         "Ft. Lauderdale",
         17.54,
         79.545,
         0.112,
         56,
         57,
         53,
         166,
         56
        ],
        [
         "LAX",
         "Los Angeles International",
         "Los Angeles",
         16.43,
         79.905,
         0.139,
         50,
         56,
         60,
         166,
         56
        ],
        [
         "SJU",
         "Luis Munoz Marin International",
         "San Juan",
         19.77,
         78.09,
         0.115,
         60,
         59,
         54,
         173,
         58
        ],
        [
         "PBI",
         "Palm Beach International",
         "West Palm Beach",
         18.87,
         77.91,
         0.128,
         58,
         60,
         58,
         176,
         59
        ],
        [
         "DFW",
         "Dallas-Fort Worth International",
         "Dallas-Fort Worth",
         19.47,
         79.195,
         0.133,
         59,
         58,
         59,
         176,
         59
        ],
        [
         "LGA",
         "LaGuardia",
         "New York",
         25.82,
         75.275,
         0.196,
         61,
         61,
         61,
         183,
         61
        ],
        [
         "EWR",
         "Newark Intl",
         "Newark",
         29.24,
         74.515,
         0.216,
         62,
         62,
         62,
         186,
         62
        ]
       ],
       "datasetInfos": [],
       "dbfsResultPath": null,
       "isJsonSchema": true,
       "metadata": {},
       "overflow": false,
       "plotOptions": {
        "customPlotOptions": {},
        "displayType": "table",
        "pivotAggregation": null,
        "pivotColumns": null,
        "xColumns": null,
        "yColumns": null
       },
       "removedWidgets": [],
       "schema": [
        {
         "metadata": "{}",
         "name": "iata",
         "type": "\"string\""
        },
        {
         "metadata": "{}",
         "name": "airport",
         "type": "\"string\""
        },
        {
         "metadata": "{}",
         "name": "city",
         "type": "\"string\""
        },
        {
         "metadata": "{}",
         "name": "total_delay",
         "type": "\"double\""
        },
        {
         "metadata": "{}",
         "name": "on_time_pct",
         "type": "\"double\""
        },
        {
         "metadata": "{}",
         "name": "NAS_delay_ratio",
         "type": "\"double\""
        },
        {
         "metadata": "{}",
         "name": "avg_delay_rank",
         "type": "\"integer\""
        },
        {
         "metadata": "{}",
         "name": "on_time_rank",
         "type": "\"integer\""
        },
        {
         "metadata": "{}",
         "name": "NAS_rank",
         "type": "\"integer\""
        },
        {
         "metadata": "{}",
         "name": "overall_score",
         "type": "\"integer\""
        },
        {
         "metadata": "{}",
         "name": "overall_rank",
         "type": "\"integer\""
        }
       ],
       "type": "table"
      }
     },
     "output_type": "display_data"
    }
   ],
   "source": [
    "top_airports = airport_stats.join(filtered_avg_delays, airport_stats[\"iata\"] == filtered_avg_delays[\"airport_iata\"], \"left\") \\\n",
    "    .join(filtered_NAS_delay_airport, airport_stats[\"iata\"] == filtered_NAS_delay_airport[\"iata\"], \"left\") \\\n",
    "    .select(\n",
    "        airport_stats[\"iata\"].alias(\"iata\"),\n",
    "        airport_stats[\"airport\"].alias(\"airport\"),\n",
    "        airport_stats[\"city\"].alias(\"city\"),\n",
    "        filtered_avg_delays[\"total_delay\"].alias(\"total_delay\"),\n",
    "        airport_stats[\"avg_on_time_pct\"].alias(\"on_time_pct\"),\n",
    "        filtered_NAS_delay_airport[\"NAS_DELAY_RATIO\"].alias(\"NAS_delay_ratio\")\n",
    "    )\n",
    "\n",
    "from pyspark.sql.window import Window\n",
    "from pyspark.sql.functions import rank, desc, asc\n",
    "import plotly.express as px\n",
    "import pandas as pd\n",
    "\n",
    "# Remove rows with null values in the total_delay column\n",
    "top_airports = top_airports.na.drop(subset=[\"total_delay\"])\n",
    "\n",
    "# Rank airports by average delay\n",
    "top_airports = top_airports.withColumn(\"avg_delay_rank\", rank().over(Window.orderBy(asc(\"total_delay\"))))\n",
    "\n",
    "# Rank airports by on-time performance\n",
    "top_airports = top_airports.withColumn(\"on_time_rank\", rank().over(Window.orderBy(desc(\"on_time_pct\"))))\n",
    "\n",
    "# Rank airports by overall delay ratio\n",
    "top_airports = top_airports.withColumn(\"NAS_rank\", rank().over(Window.orderBy(asc(\"NAS_delay_ratio\"))))\n",
    "\n",
    "# Calculate the overall score\n",
    "top_airports = top_airports.withColumn(\"overall_score\", col(\"avg_delay_rank\") + col(\"on_time_rank\") + col(\"NAS_rank\"))\n",
    "\n",
    "top_airports = top_airports.withColumn(\"overall_rank\", rank().over(Window.orderBy(asc(\"overall_score\"))))\n",
    "\n",
    "display(top_airports)\n",
    "\n",
    "\n",
    "\n"
   ]
  },
  {
   "cell_type": "code",
   "execution_count": 0,
   "metadata": {
    "application/vnd.databricks.v1+cell": {
     "cellMetadata": {
      "byteLimit": 2048000,
      "rowLimit": 10000
     },
     "inputWidgets": {},
     "nuid": "8e2005d9-46d4-4c2e-ac1d-8a70435ce8b4",
     "showTitle": true,
     "title": "Bonus: Average delays at different hours"
    }
   },
   "outputs": [
    {
     "output_type": "stream",
     "name": "stdout",
     "output_type": "stream",
     "text": [
      "+--------+-------------------+\n|DEP_HOUR|      avg_dep_delay|\n+--------+-------------------+\n|    NULL|  71.05426356589147|\n|       0|  64.22140339634733|\n|       1|  79.18002571795971|\n|       2|  96.52125279642058|\n|       3|  55.86410635155096|\n|       4|-0.2686328303612254|\n|       5|-3.5871259089169536|\n|       6|-0.5265363001284235|\n|       7| 2.0233365234960314|\n|       8|  3.796262405192257|\n|       9|  6.203153807331417|\n|      10|  7.235734721449575|\n|      11|  8.354758365030023|\n|      12|  9.477675299582156|\n|      13| 11.528704522979233|\n|      14| 11.730318659789692|\n|      15| 11.951612118380972|\n|      16| 12.634264369628637|\n|      17|  12.33938029661017|\n|      18|  14.45031712473573|\n+--------+-------------------+\nonly showing top 20 rows\n\n"
     ]
    },
    {
     "output_type": "display_data",
     "data": {
      "image/png": "[encoded data removed]",
      "text/plain": [
       "<Figure size 1000x600 with 1 Axes>"
      ]
     },
     "metadata": {},
     "output_type": "display_data"
    }
   ],
   "source": [
    "from pyspark.sql.functions import avg, hour, to_timestamp, lpad, col\n",
    "import numpy as np\n",
    "import pandas as pd\n",
    "import matplotlib.pyplot as plt\n",
    "\n",
    "\n",
    "# Filter out rows where DEP_TIME is null\n",
    "flight_data = flight_data.filter(col('DEP_TIME').isNotNull())\n",
    "\n",
    "# Convert DEP_TIME to a zero-padded string of length 4\n",
    "flight_data = flight_data.withColumn('DEP_TIME_STR', lpad(col('DEP_TIME').cast('string'), 4, '0'))\n",
    "\n",
    "# Convert the string time to a timestamp\n",
    "flight_data = flight_data.withColumn('DEP_TIME_TS', to_timestamp(flight_data.DEP_TIME_STR, 'HHmm'))\n",
    "\n",
    "# Extract hours from the timestamps\n",
    "flight_data = flight_data.withColumn('DEP_HOUR', hour(flight_data.DEP_TIME_TS))\n",
    "\n",
    "# Calculate average departure delay by hour\n",
    "avg_delays_by_hour = flight_data.groupBy('DEP_HOUR').agg(\n",
    "    avg('DEP_DELAY').alias('avg_dep_delay')\n",
    ")\n",
    "\n",
    "avg_delays_by_hour = avg_delays_by_hour.orderBy('DEP_HOUR')\n",
    "\n",
    "# Display the resulting DataFrame\n",
    "avg_delays_by_hour.show()\n",
    "\n",
    "\n",
    "\n",
    "\n",
    "# Extract data for plotting\n",
    "hours = avg_delays_by_hour.select('DEP_HOUR').collect()\n",
    "avg_delay = avg_delays_by_hour.select('avg_dep_delay').collect()\n",
    "\n",
    "# Create the scatter plot with customized style\n",
    "plt.figure(figsize=(10, 6))\n",
    "plt.scatter(hours, avg_delay, color='blue', label='Average Departure Delay', marker='o', alpha=0.7)\n",
    "plt.title('Average Departure Delay by Hour of Day')\n",
    "plt.xlabel('Hour of Day')\n",
    "plt.ylabel('Average Departure Delay (minutes)')\n",
    "plt.legend()\n",
    "plt.grid(True, linestyle='--', alpha=0.5)  # Add grid lines with dashed style and lower opacity\n",
    "\n",
    "# Show the plot\n",
    "plt.show()\n",
    "\n"
   ]
  }
 ],
 "metadata": {
  "application/vnd.databricks.v1+notebook": {
   "dashboards": [
    {
     "elements": [
      {
       "dashboardResultIndex": 0,
       "elementNUID": "745c4f92-79ab-4881-968f-3b7db097be20",
       "elementType": "command",
       "guid": "a90fee88-2909-4619-bef1-1c45772f6330",
       "options": null,
       "position": null,
       "resultIndex": null
      }
     ],
     "globalVars": {},
     "guid": "",
     "layoutOption": {
      "grid": true,
      "stack": true
     },
     "nuid": "88a435bc-1c69-49c0-b9c3-69e23135ce9a",
     "origId": 1913023775126706,
     "title": "Untitled",
     "version": "DashboardViewV1",
     "width": 1024
    }
   ],
   "environmentMetadata": null,
   "language": "python",
   "notebookMetadata": {
    "pythonIndentUnit": 4
   },
   "notebookName": "Mohamed Rizwan Team SkyMetrics",
   "widgets": {}
  }
 },
 "nbformat": 4,
 "nbformat_minor": 0
}
